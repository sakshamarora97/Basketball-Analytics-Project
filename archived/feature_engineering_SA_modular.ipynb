{
 "cells": [
  {
   "cell_type": "code",
   "execution_count": null,
   "id": "0e02813e",
   "metadata": {
    "scrolled": true
   },
   "outputs": [],
   "source": [
    "import pandas as pd\n",
    "import numpy as np\n",
    "import os\n",
    "import pickle\n",
    "from bson.objectid import ObjectId\n",
    "from collections import defaultdict\n",
    "import timeit\n",
    "import matplotlib.lines as mlines\n",
    "import matplotlib.pyplot as plt\n",
    "import datetime\n",
    "\n",
    "import data_reader as dr\n",
    "import feature_engineering_SA as fe_s"
   ]
  },
  {
   "cell_type": "code",
   "execution_count": null,
   "id": "3800e380",
   "metadata": {},
   "outputs": [],
   "source": [
    "league = \"NCAAM1\"\n",
    "season = \"22-23\"\n",
    "raw_data_path = \"../data/raw_data/\"\n",
    "dataframes = dr.read_data(raw_data_path,league,season)"
   ]
  },
  {
   "cell_type": "code",
   "execution_count": null,
   "id": "6e17fb37",
   "metadata": {},
   "outputs": [],
   "source": [
    "errors = dr.validate_data_types(dataframes)"
   ]
  },
  {
   "cell_type": "markdown",
   "metadata": {},
   "source": [
    "### Manually Fix data errors found, drop if minimal missing data"
   ]
  },
  {
   "cell_type": "code",
   "execution_count": null,
   "metadata": {},
   "outputs": [],
   "source": [
    "# USE IF NECESSARY TO CLEAN DATA\n",
    "# dataframes['segments_df'] = dataframes['segments_df'].loc[~(dataframes['segments_df'].index.isin(errors['segments_df__players_team2'].index) | (dataframes['segments_df'].index.isin(errors['segments_df__players_team1'].index)))].reset_index(drop=True)\n",
    "# dataframes['segments_players_usage_blocking_df'] = dataframes['segments_players_usage_blocking_df'].loc[~dataframes['segments_players_usage_blocking_df'].index.isin(errors['segments_players_usage_blocking_df__player_id'].index)].reset_index(drop=True)\n",
    "# dataframes['shots_df'] = dataframes['shots_df'].loc[~dataframes['shots_df'].index.isin(errors['shots_df__player_id'].index)].reset_index(drop=True)\n"
   ]
  },
  {
   "cell_type": "code",
   "execution_count": null,
   "id": "a075831d",
   "metadata": {},
   "outputs": [],
   "source": [
    "dataframes['shots_df'] = dr.clean_shots_data(dataframes['shots_df'])\n",
    "dataframes['games_df'].date = pd.to_datetime(dataframes['games_df'].date)\n",
    "# dataframes['games_df']['date'] = dr.get_correct_game_date(dataframes)"
   ]
  },
  {
   "cell_type": "markdown",
   "id": "fe013b4a",
   "metadata": {},
   "source": [
    "# Feature: Time Remaining on Game Clock, Score Difference, Clutch Time"
   ]
  },
  {
   "cell_type": "code",
   "execution_count": null,
   "metadata": {},
   "outputs": [],
   "source": [
    "dr.validate_data_types(dataframes)"
   ]
  },
  {
   "cell_type": "code",
   "execution_count": null,
   "metadata": {},
   "outputs": [],
   "source": []
  },
  {
   "cell_type": "code",
   "execution_count": null,
   "id": "41be9c71",
   "metadata": {},
   "outputs": [],
   "source": [
    "shot_id_time_features = fe_s.get_time_score_features(dataframes['shots_df'])"
   ]
  },
  {
   "cell_type": "code",
   "execution_count": null,
   "id": "2e31d415",
   "metadata": {},
   "outputs": [],
   "source": [
    "feature_list_1_shot_level = shot_id_time_features\n",
    "feature_list_1_shot_level"
   ]
  },
  {
   "cell_type": "markdown",
   "id": "46d08fcd",
   "metadata": {},
   "source": [
    "# Feature: Avg./max blocking rates of opponent team on court (segment)"
   ]
  },
  {
   "cell_type": "markdown",
   "id": "58ad4e3d",
   "metadata": {},
   "source": [
    "### Game Player Level Blocking and Usage Stats "
   ]
  },
  {
   "cell_type": "markdown",
   "id": "2b8a9564",
   "metadata": {},
   "source": [
    "## 1. Get All players in each segment to make at same level as blocking stats df"
   ]
  },
  {
   "cell_type": "code",
   "execution_count": null,
   "id": "0e224c8c",
   "metadata": {},
   "outputs": [],
   "source": [
    "segments_df_long = fe_s.create_player_level_segment_df(dataframes['segments_df'])\n",
    "segments_df_long"
   ]
  },
  {
   "cell_type": "code",
   "execution_count": null,
   "id": "578f783e",
   "metadata": {},
   "outputs": [],
   "source": [
    "segment_master_df, segment_master_df_game_player = fe_s.get_player_game_stats(segments_df_long,dataframes['segments_players_usage_blocking_df'])"
   ]
  },
  {
   "cell_type": "code",
   "execution_count": null,
   "id": "87d919c5",
   "metadata": {},
   "outputs": [],
   "source": [
    "segment_master_df_game_player"
   ]
  },
  {
   "cell_type": "code",
   "execution_count": null,
   "metadata": {},
   "outputs": [],
   "source": [
    "# USE IF NECESSARY TO FIX DATE\n",
    "\n",
    "# dataframes['games_df']['date'] = dataframes['games_df'].date.apply(lambda x: pad_date(x))\n"
   ]
  },
  {
   "cell_type": "code",
   "execution_count": null,
   "id": "5bb5e528",
   "metadata": {
    "scrolled": false
   },
   "outputs": [],
   "source": [
    "team_game_player_stats_df = fe_s.get_all_team_player_game_stats(segment_master_df,segment_master_df_game_player,dataframes['games_df'])\n",
    "team_game_player_stats_df.head(15)"
   ]
  },
  {
   "cell_type": "code",
   "execution_count": null,
   "metadata": {},
   "outputs": [],
   "source": [
    "#SANITY CHECK\n",
    "# team_id = ObjectId('5e875e684dc25ebee5af674b')\t\n",
    "# game_id = ObjectId('636e84fb7d85d389f9e3e868')\n",
    "# player_id = ObjectId('618d6acced05764db467c654')\t\n",
    "# team_game_player_stats_df.loc[(team_game_player_stats_df.team_id==team_id) & (team_game_player_stats_df.player_id==player_id)][[\"team_id\",\"game_id\",\"date\",\"player_id\",\"uses\",\"blocks\",\"two_shots_for_blocks\",\"posessions_for_usage\",\"current_season_usage_ratio\",\"current_season_blocks_ratio\"]].to_clipboard()"
   ]
  },
  {
   "cell_type": "code",
   "execution_count": null,
   "id": "a7b34876",
   "metadata": {},
   "outputs": [],
   "source": [
    "team_game_player_stats_df.isna().sum()/team_game_player_stats_df.shape[0]"
   ]
  },
  {
   "cell_type": "markdown",
   "id": "fd4efc1d",
   "metadata": {},
   "source": [
    "### As we have stats for each player for a game, now we can join this info at segment level and calculate averages for all players of opponent team"
   ]
  },
  {
   "cell_type": "code",
   "execution_count": null,
   "id": "f43e6142",
   "metadata": {},
   "outputs": [],
   "source": [
    "fe_s.get_segment_team_level_blockers(team_game_player_stats_df,segments_df_long,choose_threshold=True)"
   ]
  },
  {
   "cell_type": "code",
   "execution_count": null,
   "id": "61897639",
   "metadata": {},
   "outputs": [],
   "source": [
    "segment_team_level_blockers = fe_s.get_segment_team_level_blockers(team_game_player_stats_df,segments_df_long)\n",
    "feature_list_2_game_segment_team_level = segment_team_level_blockers\n",
    "feature_list_2_game_segment_team_level"
   ]
  },
  {
   "cell_type": "code",
   "execution_count": null,
   "id": "a7f55908",
   "metadata": {},
   "outputs": [],
   "source": [
    "feature_list_3_game_segment_player_level = fe_s.get_segment_usage_ratios(segments_df_long,team_game_player_stats_df)\n",
    "feature_list_3_game_segment_player_level"
   ]
  },
  {
   "cell_type": "markdown",
   "id": "e8ae8d51",
   "metadata": {},
   "source": [
    "### Feature: Opposition Player Characteristics"
   ]
  },
  {
   "cell_type": "code",
   "execution_count": null,
   "id": "deef1890",
   "metadata": {},
   "outputs": [],
   "source": [
    "feature_list_4_game_segment_team_level = fe_s.get_segment_positions(segments_df_long,dataframes['players_df'])\n",
    "feature_list_4_game_segment_team_level"
   ]
  },
  {
   "cell_type": "markdown",
   "metadata": {},
   "source": [
    "# Previous Season Feature creation"
   ]
  },
  {
   "cell_type": "code",
   "execution_count": null,
   "metadata": {},
   "outputs": [],
   "source": [
    "league = \"NCAAM1\"\n",
    "last_season = \"-\".join([str(int(x)-1) for x in season.split(\"-\")])\n",
    "print(f\"Fetching data for {last_season}\")\n",
    "raw_data_path = \"../../GT_MSA_LBA/data/raw_data/\"\n",
    "dataframes_ls = dr.read_data(raw_data_path,league,last_season)"
   ]
  },
  {
   "cell_type": "code",
   "execution_count": null,
   "metadata": {},
   "outputs": [],
   "source": [
    "errors = dr.validate_data_types(dataframes_ls)"
   ]
  },
  {
   "cell_type": "markdown",
   "metadata": {},
   "source": [
    "### Manually Fix data errors found, drop if minimal missing data"
   ]
  },
  {
   "cell_type": "code",
   "execution_count": null,
   "metadata": {},
   "outputs": [],
   "source": [
    "# USE IF NECESSARY TO CLEAN DATA\n",
    "dataframes_ls['segments_df'] = dataframes_ls['segments_df'].loc[~(dataframes_ls['segments_df'].index.isin(errors['segments_df__players_team2'].index) | (dataframes_ls['segments_df'].index.isin(errors['segments_df__players_team1'].index)))].reset_index(drop=True)\n",
    "dataframes_ls['segments_players_usage_blocking_df'] = dataframes_ls['segments_players_usage_blocking_df'].loc[~dataframes_ls['segments_players_usage_blocking_df'].index.isin(errors['segments_players_usage_blocking_df__player_id'].index)].reset_index(drop=True)\n",
    "dataframes_ls['shots_df'] = dataframes_ls['shots_df'].loc[~dataframes_ls['shots_df'].index.isin(errors['shots_df__player_id'].index)].reset_index(drop=True)"
   ]
  },
  {
   "cell_type": "code",
   "execution_count": null,
   "metadata": {},
   "outputs": [],
   "source": [
    "dataframes_ls['shots_df'] = dr.clean_shots_data(dataframes_ls['shots_df'])\n",
    "# dataframes_ls['games_df']['date'] = dr.get_correct_game_date(dataframes_ls)"
   ]
  },
  {
   "cell_type": "code",
   "execution_count": null,
   "id": "8867ae38",
   "metadata": {},
   "outputs": [],
   "source": [
    "segments_df_long = fe_s.create_player_level_segment_df(dataframes_ls['segments_df'])\n",
    "segments_df_long"
   ]
  },
  {
   "cell_type": "code",
   "execution_count": null,
   "id": "2af5676f",
   "metadata": {},
   "outputs": [],
   "source": [
    "segment_master_df, segment_master_df_game_player = fe_s.get_player_game_stats(segments_df_long,dataframes_ls['segments_players_usage_blocking_df'])"
   ]
  },
  {
   "cell_type": "code",
   "execution_count": null,
   "metadata": {},
   "outputs": [],
   "source": [
    "segment_master_df"
   ]
  },
  {
   "cell_type": "code",
   "execution_count": null,
   "metadata": {},
   "outputs": [],
   "source": [
    "dataframes_ls['segments_players_usage_blocking_df']"
   ]
  },
  {
   "cell_type": "code",
   "execution_count": null,
   "id": "8347e4a3",
   "metadata": {},
   "outputs": [],
   "source": [
    "dataframes['segments_players_usage_blocking_df']"
   ]
  },
  {
   "cell_type": "code",
   "execution_count": null,
   "id": "2c50760f",
   "metadata": {},
   "outputs": [],
   "source": [
    "# USE IF NECESSARY TO FIX DATE\n",
    "\n",
    "# dataframes['games_df']['date'] = dataframes['games_df'].date.apply(lambda x: pad_date(x))\n"
   ]
  },
  {
   "cell_type": "code",
   "execution_count": null,
   "id": "7de73292",
   "metadata": {},
   "outputs": [],
   "source": [
    "player_past_season_stats = fe_s.get_all_team_player_stats_last_season(segment_master_df_game_player)\n",
    "player_past_season_stats.head(15)"
   ]
  },
  {
   "cell_type": "code",
   "execution_count": null,
   "metadata": {},
   "outputs": [],
   "source": [
    "player_past_season_stats"
   ]
  },
  {
   "cell_type": "code",
   "execution_count": null,
   "id": "0d6adfb4",
   "metadata": {},
   "outputs": [],
   "source": [
    "feature_list_5_player_level = player_past_season_stats"
   ]
  },
  {
   "cell_type": "code",
   "execution_count": null,
   "id": "4b9fd973",
   "metadata": {},
   "outputs": [],
   "source": [
    "altered_shots_df = fe_s.get_corrected_score_feature(dataframes['shots_df'])"
   ]
  },
  {
   "cell_type": "markdown",
   "id": "fbed873a",
   "metadata": {},
   "source": [
    "# Merge all features"
   ]
  },
  {
   "cell_type": "code",
   "execution_count": null,
   "id": "d7bf039a",
   "metadata": {},
   "outputs": [],
   "source": [
    "shots = fe_s.get_all_features_at_shot_level(altered_shots_df,dataframes['segments_df'],feature_list_1_shot_level,feature_list_2_game_segment_team_level,feature_list_3_game_segment_player_level,feature_list_4_game_segment_team_level,feature_list_5_player_level)\n",
    "shots.columns"
   ]
  },
  {
   "cell_type": "code",
   "execution_count": null,
   "id": "5068c400",
   "metadata": {},
   "outputs": [],
   "source": [
    "subset_cols = ['shot_id',\n",
    "       'score_pre_shot','score_pre_shot_diff', 'clutch_time',\n",
    "       'num_blockers_on_team', 'last_1_game_usage_ratio',\n",
    "       'last_3_game_usage_ratio', 'last_5_game_usage_ratio',\n",
    "       'last_10_game_usage_ratio','current_season_usage_ratio','past_season_usage_ratio', 'Big', 'Mid', 'Small']"
   ]
  },
  {
   "cell_type": "code",
   "execution_count": null,
   "metadata": {},
   "outputs": [],
   "source": [
    "shots[subset_cols]"
   ]
  },
  {
   "cell_type": "code",
   "execution_count": null,
   "id": "521618c6",
   "metadata": {},
   "outputs": [],
   "source": [
    "shots[subset_cols].to_pickle('features_SA.pickle')"
   ]
  }
 ],
 "metadata": {
  "kernelspec": {
   "display_name": "Python 3 (ipykernel)",
   "language": "python",
   "name": "python3"
  },
  "language_info": {
   "codemirror_mode": {
    "name": "ipython",
    "version": 3
   },
   "file_extension": ".py",
   "mimetype": "text/x-python",
   "name": "python",
   "nbconvert_exporter": "python",
   "pygments_lexer": "ipython3",
   "version": "3.9.18"
  }
 },
 "nbformat": 4,
 "nbformat_minor": 5
}
