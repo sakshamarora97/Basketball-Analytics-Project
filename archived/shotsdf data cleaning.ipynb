{
 "cells": [
  {
   "cell_type": "code",
   "execution_count": 29,
   "metadata": {},
   "outputs": [],
   "source": [
    "import os\n",
    "import bson\n",
    "import numpy as np\n",
    "import pandas as pd; pd.set_option('display.max_columns', None)"
   ]
  },
  {
   "cell_type": "code",
   "execution_count": 30,
   "metadata": {},
   "outputs": [
    {
     "data": {
      "text/plain": [
       "'c:\\\\Users\\\\kavou\\\\OneDrive\\\\Έγγραφα\\\\Πρακτική - Μεταπτυχιακό\\\\MSA\\\\Courses\\\\CSE 6748\\\\LBA project\\\\Data\\\\pickle'"
      ]
     },
     "execution_count": 30,
     "metadata": {},
     "output_type": "execute_result"
    }
   ],
   "source": [
    "os.chdir('c:\\\\Users\\\\kavou\\\\OneDrive\\\\Έγγραφα\\\\Πρακτική - Μεταπτυχιακό\\\\MSA\\\\Courses\\\\CSE 6748\\\\LBA project\\\\Data\\\\pickle')\n",
    "os.getcwd()"
   ]
  },
  {
   "cell_type": "code",
   "execution_count": 31,
   "metadata": {},
   "outputs": [],
   "source": [
    "#Load shots dataframe\n",
    "shots_df = pd.read_pickle(r'NCAAM1 22_23 shotsdf.pickle')"
   ]
  },
  {
   "cell_type": "code",
   "execution_count": 32,
   "metadata": {},
   "outputs": [],
   "source": [
    "#Remove rows with no player_id\n",
    "shots_df = shots_df[shots_df.player_id!=False]"
   ]
  },
  {
   "cell_type": "code",
   "execution_count": 33,
   "metadata": {},
   "outputs": [],
   "source": [
    "#Remove all the corner 3s that are registered as 2s\n",
    "shots_df = shots_df[~(((shots_df.Zone==' 4-1')&(shots_df.x_coordinate<=3))|((shots_df.Zone==' 4-3')&(shots_df.x_coordinate>=47)))]"
   ]
  },
  {
   "cell_type": "code",
   "execution_count": 34,
   "metadata": {},
   "outputs": [],
   "source": [
    "#Remove all the above the break 3s that are registered as 2s\n",
    "shots_df = shots_df[~(((shots_df.Zone==' 4-1')|(shots_df.Zone==' 4-3')|(shots_df.Zone==' 4-2'))&(shots_df.Distance>=22.14583))]"
   ]
  },
  {
   "cell_type": "code",
   "execution_count": 35,
   "metadata": {},
   "outputs": [],
   "source": [
    "#Remove all the 2s that are registered as above the break 3s\n",
    "shots_df = shots_df[~(((shots_df.Zone==' 6-1')|(shots_df.Zone==' 6-3')|(shots_df.Zone==' 6-2'))&(shots_df.Distance<22.14583))]"
   ]
  },
  {
   "cell_type": "code",
   "execution_count": 36,
   "metadata": {},
   "outputs": [],
   "source": [
    "#Remove all the 2s that are registered as corner 3s\n",
    "shots_df = shots_df[~(((shots_df.Zone==' 5-1')&(shots_df.x_coordinate>3))|((shots_df.Zone==' 5-2')&(shots_df.x_coordinate<47)&(shots_df.x_coordinate>3)))]"
   ]
  },
  {
   "cell_type": "code",
   "execution_count": 37,
   "metadata": {},
   "outputs": [],
   "source": [
    "#Reclassify the misclassified corner 3s (left instead of right corner)\n",
    "shots_df.loc[((shots_df.Zone==' 5-2')&(shots_df.x_coordinate<=3)), 'Zone'] = ' 5-1'"
   ]
  },
  {
   "cell_type": "code",
   "execution_count": 38,
   "metadata": {},
   "outputs": [],
   "source": [
    "shots_df.to_pickle(\"Cleaned NCAAM1 22_23 shotsdf.pickle\") "
   ]
  }
 ],
 "metadata": {
  "kernelspec": {
   "display_name": "Python 3",
   "language": "python",
   "name": "python3"
  },
  "language_info": {
   "codemirror_mode": {
    "name": "ipython",
    "version": 3
   },
   "file_extension": ".py",
   "mimetype": "text/x-python",
   "name": "python",
   "nbconvert_exporter": "python",
   "pygments_lexer": "ipython3",
   "version": "3.10.6"
  },
  "orig_nbformat": 4
 },
 "nbformat": 4,
 "nbformat_minor": 2
}
