{
 "cells": [
  {
   "cell_type": "code",
   "execution_count": 1,
   "metadata": {},
   "outputs": [],
   "source": [
    "import pandas as pd\n",
    "import data_reader as dr\n",
    "import feature_engineering_SA as fe_s\n",
    "import numpy as np\n",
    "from tqdm import tqdm\n",
    "\n",
    "pd.set_option('display.max_columns', None)"
   ]
  },
  {
   "cell_type": "code",
   "execution_count": 2,
   "metadata": {},
   "outputs": [],
   "source": [
    "import os\n",
    "os.chdir(\"/Users/sakshamarora/Documents/6748 Practicum/project/GT_MSA_LBA\")"
   ]
  },
  {
   "cell_type": "markdown",
   "metadata": {},
   "source": [
    "## Current Season Data"
   ]
  },
  {
   "cell_type": "code",
   "execution_count": 3,
   "metadata": {},
   "outputs": [
    {
     "name": "stderr",
     "output_type": "stream",
     "text": [
      "INFO:root:['NCAAW1+ 22-23 shotsdf.pickle', 'NCAAW1+ 22-23 teamsdf.pickle', 'NCAAW1+ 22-23 segment player block and usage data.pickle', 'NCAAW1+ 22-23 segment data.pickle', 'NCAAW1+ 22-23 gamesdf.pickle', 'NCAAW1+ 22-23 playerdictionary.pickle']\n",
      "INFO:root:reading files from data/raw_data/NCAAW1+/S-22-23\n",
      "INFO:root:files present: ['NCAAW1+ 22-23 shotsdf.pickle', 'NCAAW1+ 22-23 teamsdf.pickle', 'NCAAW1+ 22-23 segment player block and usage data.pickle', 'NCAAW1+ 22-23 segment data.pickle', 'NCAAW1+ 22-23 gamesdf.pickle', 'NCAAW1+ 22-23 playerdictionary.pickle']\n"
     ]
    }
   ],
   "source": [
    "league = \"NCAAW1+\"\n",
    "season = \"22-23\"\n",
    "past_season = \"21-22\"\n",
    "raw_data_path = \"data/raw_data/\"\n",
    "dataframes_cs = dr.read_data(raw_data_path,league,season)"
   ]
  },
  {
   "cell_type": "code",
   "execution_count": 4,
   "metadata": {},
   "outputs": [
    {
     "name": "stderr",
     "output_type": "stream",
     "text": [
      "WARNING:root:Check required in games_df for column hometeam, expected datatype:<class 'bson.objectid.ObjectId'>\n",
      "WARNING:root:games_df__hometeam: (536,) flagged rows of (5738, 10) rows\n",
      "WARNING:root:Check required in shots_df for column player_id, expected datatype:<class 'bson.objectid.ObjectId'>\n",
      "WARNING:root:shots_df__player_id: (1,) flagged rows of (665924, 36) rows\n",
      "WARNING:root:Check required in teams_df for column team_id, expected datatype:<class 'bson.objectid.ObjectId'>\n",
      "WARNING:root:teams_df__team_id: (362,) flagged rows of (362, 3) rows\n",
      "WARNING:root:Check required in teams_df for column season_id, expected datatype:<class 'bson.objectid.ObjectId'>\n",
      "WARNING:root:teams_df__season_id: (362,) flagged rows of (362, 3) rows\n",
      "WARNING:root:Check required in teams_df for column conferenceid, expected datatype:<class 'bson.objectid.ObjectId'>\n",
      "WARNING:root:teams_df__conferenceid: (362,) flagged rows of (362, 3) rows\n",
      "WARNING:root:Inspect examples to check for potential errors\n",
      "WARNING:root:283    None\n",
      "330    None\n",
      "456    None\n",
      "Name: hometeam, dtype: object\n",
      "WARNING:root:Inspect examples to check for potential errors\n",
      "WARNING:root:479425    False\n",
      "Name: player_id, dtype: object\n",
      "WARNING:root:Inspect examples to check for potential errors\n",
      "WARNING:root:0    618ade0180945020656b0941\n",
      "1    618ade0180945020656b0939\n",
      "2    618ade0180945020656b0969\n",
      "Name: team_id, dtype: object\n",
      "WARNING:root:Inspect examples to check for potential errors\n",
      "WARNING:root:0    618ade0180945020656b0943\n",
      "1    618ade0180945020656b093b\n",
      "2    618ade0180945020656b096b\n",
      "Name: season_id, dtype: object\n",
      "WARNING:root:Inspect examples to check for potential errors\n",
      "WARNING:root:0    64e4d36650f218f22c415b7c\n",
      "1    64e4d36650f218f22c415b72\n",
      "2    64e4d36650f218f22c415b6b\n",
      "Name: conferenceid, dtype: object\n"
     ]
    }
   ],
   "source": [
    "errors = dr.validate_data_types(dataframes_cs)\n"
   ]
  },
  {
   "cell_type": "markdown",
   "metadata": {},
   "source": [
    "### Manually Fix data errors found, drop if minimal missing data"
   ]
  },
  {
   "cell_type": "code",
   "execution_count": 5,
   "metadata": {},
   "outputs": [],
   "source": [
    "# TODO: USE IF NECESSARY TO CLEAN DATA\n",
    "# dataframes['segments_df'] = dataframes['segments_df'].loc[~(dataframes['segments_df'].index.isin(errors['segments_df__players_team2'].index) | (dataframes['segments_df'].index.isin(errors['segments_df__players_team1'].index)))].reset_index(drop=True)\n",
    "# dataframes['segments_players_usage_blocking_df'] = dataframes['segments_players_usage_blocking_df'].loc[~dataframes['segments_players_usage_blocking_df'].index.isin(errors['segments_players_usage_blocking_df__player_id'].index)].reset_index(drop=True)\n",
    "# dataframes['shots_df'] = dataframes['shots_df'].loc[~dataframes['shots_df'].index.isin(errors['shots_df__player_id'].index)].reset_index(drop=True)\n"
   ]
  },
  {
   "cell_type": "code",
   "execution_count": 6,
   "metadata": {},
   "outputs": [
    {
     "name": "stderr",
     "output_type": "stream",
     "text": [
      "/var/folders/pb/ltqtnlc15yxbdykyrh7hhqg80000gn/T/ipykernel_23783/2808550072.py:2: UserWarning: Could not infer format, so each element will be parsed individually, falling back to `dateutil`. To ensure parsing is consistent and as-expected, please specify a format.\n",
      "  dataframes_cs['games_df'].date = pd.to_datetime(dataframes_cs['games_df'].date)\n"
     ]
    }
   ],
   "source": [
    "dataframes_cs['shots_df'] = dr.clean_shots_data(dataframes_cs['shots_df'])\n",
    "dataframes_cs['games_df'].date = pd.to_datetime(dataframes_cs['games_df'].date)"
   ]
  },
  {
   "cell_type": "markdown",
   "metadata": {},
   "source": [
    "## Past Season Data"
   ]
  },
  {
   "cell_type": "code",
   "execution_count": 7,
   "metadata": {},
   "outputs": [
    {
     "name": "stderr",
     "output_type": "stream",
     "text": [
      "INFO:root:['NCAAW1+ 21-22 shotsdf.pickle', 'NCAAW1+ 21-22 teamsdf.pickle', 'NCAAW1+ 21-22 segment player block and usage data.pickle', 'NCAAW1+ 21-22 gamesdf.pickle', 'NCAAW1+ 21-22 playerdictionary.pickle', 'NCAAW1+ 21-22 segment data.pickle']\n",
      "INFO:root:reading files from data/raw_data/NCAAW1+/S-21-22\n",
      "INFO:root:files present: ['NCAAW1+ 21-22 shotsdf.pickle', 'NCAAW1+ 21-22 teamsdf.pickle', 'NCAAW1+ 21-22 segment player block and usage data.pickle', 'NCAAW1+ 21-22 gamesdf.pickle', 'NCAAW1+ 21-22 playerdictionary.pickle', 'NCAAW1+ 21-22 segment data.pickle']\n"
     ]
    }
   ],
   "source": [
    "dataframes_ps = dr.read_data(raw_data_path,league,past_season)"
   ]
  },
  {
   "cell_type": "code",
   "execution_count": 8,
   "metadata": {},
   "outputs": [
    {
     "name": "stderr",
     "output_type": "stream",
     "text": [
      "WARNING:root:Check required in games_df for column hometeam, expected datatype:<class 'bson.objectid.ObjectId'>\n",
      "WARNING:root:games_df__hometeam: (204,) flagged rows of (3957, 10) rows\n"
     ]
    },
    {
     "name": "stderr",
     "output_type": "stream",
     "text": [
      "WARNING:root:Check required in shots_df for column player_id, expected datatype:<class 'bson.objectid.ObjectId'>\n",
      "WARNING:root:shots_df__player_id: (1,) flagged rows of (461910, 42) rows\n",
      "WARNING:root:Check required in teams_df for column team_id, expected datatype:<class 'bson.objectid.ObjectId'>\n",
      "WARNING:root:teams_df__team_id: (361,) flagged rows of (361, 3) rows\n",
      "WARNING:root:Check required in teams_df for column season_id, expected datatype:<class 'bson.objectid.ObjectId'>\n",
      "WARNING:root:teams_df__season_id: (361,) flagged rows of (361, 3) rows\n",
      "WARNING:root:Check required in teams_df for column conferenceid, expected datatype:<class 'bson.objectid.ObjectId'>\n",
      "WARNING:root:teams_df__conferenceid: (361,) flagged rows of (361, 3) rows\n",
      "WARNING:root:Inspect examples to check for potential errors\n",
      "WARNING:root:384    None\n",
      "393    None\n",
      "394    None\n",
      "Name: hometeam, dtype: object\n",
      "WARNING:root:Inspect examples to check for potential errors\n",
      "WARNING:root:407421    False\n",
      "Name: player_id, dtype: object\n",
      "WARNING:root:Inspect examples to check for potential errors\n",
      "WARNING:root:0    618ade0180945020656b0931\n",
      "1    618ade0180945020656b0935\n",
      "2    618ade0180945020656b0939\n",
      "Name: team_id, dtype: object\n",
      "WARNING:root:Inspect examples to check for potential errors\n",
      "WARNING:root:0    618ade0180945020656b0932\n",
      "1    618ade0180945020656b0936\n",
      "2    618ade0180945020656b093a\n",
      "Name: season_id, dtype: object\n",
      "WARNING:root:Inspect examples to check for potential errors\n",
      "WARNING:root:0    64e4d36650f218f22c415b6a\n",
      "1    64e4d36650f218f22c415b7e\n",
      "2    64e4d36650f218f22c415b72\n",
      "Name: conferenceid, dtype: object\n"
     ]
    }
   ],
   "source": [
    "errors = dr.validate_data_types(dataframes_ps)"
   ]
  },
  {
   "cell_type": "code",
   "execution_count": 9,
   "metadata": {},
   "outputs": [],
   "source": [
    "# # TODO: MANUAL USE IF NECESSARY TO CLEAN DATA\n",
    "# dataframes_ps['segments_df'] = dataframes_ps['segments_df'].loc[~(dataframes_ps['segments_df'].index.isin(errors['segments_df__players_team2'].index) | (dataframes_ps['segments_df'].index.isin(errors['segments_df__players_team1'].index)))].reset_index(drop=True)\n",
    "# dataframes_ps['segments_players_usage_blocking_df'] = dataframes_ps['segments_players_usage_blocking_df'].loc[~dataframes_ps['segments_players_usage_blocking_df'].index.isin(errors['segments_players_usage_blocking_df__player_id'].index)].reset_index(drop=True)\n",
    "# #The 'Pullup' and 'Hook' columns are redundant and thus will be removed.\n",
    "# dataframes_ps['shots_df'] = dataframes_ps['shots_df'].drop(columns=['Pullup','Hook'])\n",
    "# dataframes_ps['shots_df']['Fastbreak'] = np.where(dataframes_ps['shots_df']['Fast Break']==True, True, dataframes_ps['shots_df']['Fastbreak'])\n",
    "# dataframes_ps['shots_df'] = dataframes_ps['shots_df'].drop(columns=['Fast Break'])\n",
    "# dataframes_ps['shots_df'] = dataframes_ps['shots_df'].rename(columns={'Pull Up':'Pullup'})\n",
    "# # dataframes['shots_df'] = dataframes['shots_df'].loc[~dataframes['shots_df'].index.isin(errors['shots_df__player_id'].index)].reset_index(drop=True)"
   ]
  },
  {
   "cell_type": "code",
   "execution_count": 10,
   "metadata": {},
   "outputs": [],
   "source": [
    "dataframes_ps['shots_df'] = dr.clean_shots_data(dataframes_ps['shots_df'])\n"
   ]
  },
  {
   "cell_type": "code",
   "execution_count": 11,
   "metadata": {},
   "outputs": [],
   "source": [
    "df_shots = dataframes_cs['shots_df']\n",
    "df_games = dataframes_cs['games_df']\n",
    "df_players = dataframes_cs['players_df']\n",
    "df_team = dataframes_cs['teams_df']"
   ]
  },
  {
   "cell_type": "markdown",
   "metadata": {},
   "source": [
    "# Feature Creation"
   ]
  },
  {
   "cell_type": "markdown",
   "metadata": {},
   "source": [
    "## Feature Part 1"
   ]
  },
  {
   "cell_type": "code",
   "execution_count": 12,
   "metadata": {},
   "outputs": [],
   "source": [
    "# Drop irrelevant features\n",
    "features_df = df_shots[['game_id', 'team_id', 'season_id', 'player_id', 'shot_id','segment_id','Distance', 'Angle', 'Zone', 'x_coordinate', 'y_coordinate', 'Period','Time_Seconds','Time','score','score_opp','Stat']].copy()\n",
    "\n",
    "# For shot/play type, we'll take multiple columns\n",
    "# TODO: ADD BOOLEAN FEATURES HERE\n",
    "shot_play_type_columns = ['Jumpshot', 'Assisted', 'Red Zone', 'Floater', 'Second Chance', 'Layup', 'Paint', 'Drive', 'Blocked', 'ATO', 'Off Turnover', 'Off Steal', 'Hook Shot', 'Fastbreak', 'Pullup', 'And1', 'Turnaround', 'Dunk', 'Step Back']\n",
    "features_df[shot_play_type_columns] = df_shots[shot_play_type_columns]"
   ]
  },
  {
   "cell_type": "code",
   "execution_count": 13,
   "metadata": {},
   "outputs": [],
   "source": [
    "merged_df = pd.merge(features_df, df_games, on='game_id', how='left')\n",
    "\n",
    "# Create 'Location' feature based on 'team_id' and 'hometeam'\n",
    "def determine_location(row):\n",
    "    if pd.isna(row['hometeam']):\n",
    "        return 'Neutral'\n",
    "    elif row['team_id'] == row['hometeam']:\n",
    "        return 'Home'\n",
    "    else:\n",
    "        return 'Away'\n",
    "\n",
    "merged_df['Location'] = merged_df.apply(determine_location, axis=1)"
   ]
  },
  {
   "cell_type": "markdown",
   "metadata": {},
   "source": [
    "### Adding win-loss ratio"
   ]
  },
  {
   "cell_type": "code",
   "execution_count": 14,
   "metadata": {},
   "outputs": [
    {
     "name": "stderr",
     "output_type": "stream",
     "text": [
      "Updating DataFrame: 100%|██████████| 4/4 [00:59<00:00, 14.80s/it]\n"
     ]
    }
   ],
   "source": [
    "periods = [10, 5, 3, 1]\n",
    "\n",
    "def compute_win_loss_ratios_for_period(df_games, team_id, period):\n",
    "    \"\"\"Compute win-loss ratios for a team for the given period.\"\"\"\n",
    "    # Filter the team's games\n",
    "    team_games = df_games[(df_games['team1'] == team_id) | (df_games['team2'] == team_id)]\n",
    "    \n",
    "    # Sort by date\n",
    "    team_games = team_games.sort_values(by='date')\n",
    "    \n",
    "    # Compute win flags (1 if won, 0 otherwise)\n",
    "    team_games['won'] = (team_games['winning_team'] == team_id).astype(int)\n",
    "    \n",
    "    # Calculate rolling win sum and count, excluding the current game\n",
    "    team_games[f'wins_last_{period}'] = team_games['won'].shift(1).rolling(window=period, min_periods=1, closed='left').sum()\n",
    "    team_games[f'games_last_{period}'] = team_games['won'].shift(1).rolling(window=period, min_periods=1, closed='left').count()\n",
    "    \n",
    "    # Calculate ratio\n",
    "    team_games[f'w_l_ratio_last_{period}'] = team_games[f'wins_last_{period}'] / team_games[f'games_last_{period}']\n",
    "    \n",
    "    return team_games[['date', f'w_l_ratio_last_{period}']].set_index('date')\n",
    "\n",
    "# Calculate win-loss ratios for all teams and periods in advance\n",
    "team_ids = df_games['team1'].unique()\n",
    "ratios_cache = {}\n",
    "for team_id in team_ids:\n",
    "    for period in periods:\n",
    "        ratios_cache[(team_id, period)] = compute_win_loss_ratios_for_period(df_games, team_id, period)\n",
    "\n",
    "def get_opponent(row):\n",
    "    return row['team2'] if row['team_id'] == row['team1'] else row['team1']\n",
    "\n",
    "def get_ratio_from_cache_vectorized(dates, team_ids, period):\n",
    "    \"\"\"Vectorized function to fetch pre-calculated ratio from the cache.\"\"\"\n",
    "    results = []\n",
    "    for date, team_id in zip(dates, team_ids):\n",
    "        ratios = ratios_cache.get((team_id, period))\n",
    "        if ratios is not None:\n",
    "            results.append(ratios.loc[date, f'w_l_ratio_last_{period}'] if date in ratios.index else float('nan'))\n",
    "        else:\n",
    "            results.append(float('nan'))\n",
    "    return results\n",
    "\n",
    "for period in tqdm(periods, desc='Updating DataFrame'):\n",
    "    # Team stats\n",
    "    merged_df[f'w_l_ratio_last_{period}'] = get_ratio_from_cache_vectorized(merged_df['date'], merged_df['team_id'], period)\n",
    "    # Opposition stats\n",
    "    merged_df[f'opp_w_l_ratio_last_{period}'] = get_ratio_from_cache_vectorized(merged_df['date'], merged_df.apply(get_opponent, axis=1), period)"
   ]
  },
  {
   "cell_type": "markdown",
   "metadata": {},
   "source": [
    "### Adding player attributes"
   ]
  },
  {
   "cell_type": "code",
   "execution_count": 15,
   "metadata": {},
   "outputs": [],
   "source": [
    "merged_df = pd.merge(merged_df, df_players, left_on='player_id', right_on='player', how='left')\n",
    "merged_df.drop(columns=['player', 'Genius_position','seasonid'], inplace=True)\n"
   ]
  },
  {
   "cell_type": "markdown",
   "metadata": {},
   "source": [
    "### Adding previous season win-loss ratio"
   ]
  },
  {
   "cell_type": "code",
   "execution_count": 16,
   "metadata": {},
   "outputs": [],
   "source": [
    "df_games_prev_season = dataframes_ps[\"games_df\"]"
   ]
  },
  {
   "cell_type": "markdown",
   "metadata": {},
   "source": [
    "### Adding previous season win_loss ratio"
   ]
  },
  {
   "cell_type": "code",
   "execution_count": 17,
   "metadata": {},
   "outputs": [],
   "source": [
    "def compute_prev_season_win_loss_ratio(df_games_prev_season):\n",
    "    team_wins = df_games_prev_season.groupby('winning_team').size()\n",
    "    team_games = df_games_prev_season.groupby(['team1']).size() + df_games_prev_season.groupby(['team2']).size()\n",
    "\n",
    "    # Win-loss ratio\n",
    "    win_loss_ratio = team_wins / team_games\n",
    "    return win_loss_ratio\n",
    "\n",
    "win_loss_ratio_prev_season = compute_prev_season_win_loss_ratio(df_games_prev_season)\n",
    "\n",
    "def get_team_wl_ratio(team_id, win_loss_ratio):\n",
    "    return win_loss_ratio.get(team_id, float('nan'))\n",
    "\n",
    "merged_df['team_wl_ratio_prev_season'] = merged_df['team_id'].apply(lambda x: get_team_wl_ratio(x, win_loss_ratio_prev_season))\n",
    "merged_df['opp_team_wl_ratio_prev_season'] = merged_df.apply(lambda row: get_team_wl_ratio(get_opponent(row), win_loss_ratio_prev_season), axis=1)"
   ]
  },
  {
   "cell_type": "code",
   "execution_count": 18,
   "metadata": {},
   "outputs": [],
   "source": [
    "import pandas as pd\n",
    "import numpy as np\n",
    "import os\n",
    "import pickle\n",
    "from bson.objectid import ObjectId\n",
    "from collections import defaultdict\n",
    "import timeit\n",
    "import matplotlib.lines as mlines\n",
    "import matplotlib.pyplot as plt\n",
    "import datetime\n",
    "\n",
    "import data_reader as dr\n",
    "import feature_engineering_SA as fe_s"
   ]
  },
  {
   "cell_type": "markdown",
   "metadata": {},
   "source": [
    "## Features Part 2"
   ]
  },
  {
   "cell_type": "markdown",
   "metadata": {},
   "source": [
    "### Creating Time Remaining on Game Clock, Score Difference, Clutch Time"
   ]
  },
  {
   "cell_type": "code",
   "execution_count": 19,
   "metadata": {},
   "outputs": [],
   "source": [
    "shot_id_time_features = fe_s.get_time_score_features(dataframes_cs['shots_df'])"
   ]
  },
  {
   "cell_type": "code",
   "execution_count": 20,
   "metadata": {},
   "outputs": [
    {
     "data": {
      "text/html": [
       "<div>\n",
       "<style scoped>\n",
       "    .dataframe tbody tr th:only-of-type {\n",
       "        vertical-align: middle;\n",
       "    }\n",
       "\n",
       "    .dataframe tbody tr th {\n",
       "        vertical-align: top;\n",
       "    }\n",
       "\n",
       "    .dataframe thead th {\n",
       "        text-align: right;\n",
       "    }\n",
       "</style>\n",
       "<table border=\"1\" class=\"dataframe\">\n",
       "  <thead>\n",
       "    <tr style=\"text-align: right;\">\n",
       "      <th></th>\n",
       "      <th>shot_id</th>\n",
       "      <th>Time_Seconds</th>\n",
       "      <th>score_difference</th>\n",
       "      <th>clutch_time</th>\n",
       "    </tr>\n",
       "  </thead>\n",
       "  <tbody>\n",
       "    <tr>\n",
       "      <th>0</th>\n",
       "      <td>636a63d48efc1cede33f6085</td>\n",
       "      <td>496</td>\n",
       "      <td>-3</td>\n",
       "      <td>0</td>\n",
       "    </tr>\n",
       "    <tr>\n",
       "      <th>1</th>\n",
       "      <td>636a63d48efc1cede33f6086</td>\n",
       "      <td>471</td>\n",
       "      <td>-6</td>\n",
       "      <td>0</td>\n",
       "    </tr>\n",
       "    <tr>\n",
       "      <th>2</th>\n",
       "      <td>636a63d48efc1cede33f6088</td>\n",
       "      <td>449</td>\n",
       "      <td>-6</td>\n",
       "      <td>0</td>\n",
       "    </tr>\n",
       "    <tr>\n",
       "      <th>3</th>\n",
       "      <td>636a63d48efc1cede33f608a</td>\n",
       "      <td>419</td>\n",
       "      <td>-7</td>\n",
       "      <td>0</td>\n",
       "    </tr>\n",
       "    <tr>\n",
       "      <th>4</th>\n",
       "      <td>636a63d48efc1cede33f6095</td>\n",
       "      <td>391</td>\n",
       "      <td>-5</td>\n",
       "      <td>0</td>\n",
       "    </tr>\n",
       "    <tr>\n",
       "      <th>...</th>\n",
       "      <td>...</td>\n",
       "      <td>...</td>\n",
       "      <td>...</td>\n",
       "      <td>...</td>\n",
       "    </tr>\n",
       "    <tr>\n",
       "      <th>664649</th>\n",
       "      <td>645d57b639354d6a0fda3380</td>\n",
       "      <td>64</td>\n",
       "      <td>-11</td>\n",
       "      <td>0</td>\n",
       "    </tr>\n",
       "    <tr>\n",
       "      <th>664650</th>\n",
       "      <td>645d57b639354d6a0fda3382</td>\n",
       "      <td>39</td>\n",
       "      <td>-8</td>\n",
       "      <td>0</td>\n",
       "    </tr>\n",
       "    <tr>\n",
       "      <th>664651</th>\n",
       "      <td>645d57b639354d6a0fda3386</td>\n",
       "      <td>17</td>\n",
       "      <td>-10</td>\n",
       "      <td>0</td>\n",
       "    </tr>\n",
       "    <tr>\n",
       "      <th>664652</th>\n",
       "      <td>645d57b639354d6a0fda338a</td>\n",
       "      <td>9</td>\n",
       "      <td>-11</td>\n",
       "      <td>0</td>\n",
       "    </tr>\n",
       "    <tr>\n",
       "      <th>664653</th>\n",
       "      <td>645d57b639354d6a0fda338c</td>\n",
       "      <td>0</td>\n",
       "      <td>-10</td>\n",
       "      <td>0</td>\n",
       "    </tr>\n",
       "  </tbody>\n",
       "</table>\n",
       "<p>664654 rows × 4 columns</p>\n",
       "</div>"
      ],
      "text/plain": [
       "                         shot_id  Time_Seconds  score_difference  clutch_time\n",
       "0       636a63d48efc1cede33f6085           496                -3            0\n",
       "1       636a63d48efc1cede33f6086           471                -6            0\n",
       "2       636a63d48efc1cede33f6088           449                -6            0\n",
       "3       636a63d48efc1cede33f608a           419                -7            0\n",
       "4       636a63d48efc1cede33f6095           391                -5            0\n",
       "...                          ...           ...               ...          ...\n",
       "664649  645d57b639354d6a0fda3380            64               -11            0\n",
       "664650  645d57b639354d6a0fda3382            39                -8            0\n",
       "664651  645d57b639354d6a0fda3386            17               -10            0\n",
       "664652  645d57b639354d6a0fda338a             9               -11            0\n",
       "664653  645d57b639354d6a0fda338c             0               -10            0\n",
       "\n",
       "[664654 rows x 4 columns]"
      ]
     },
     "execution_count": 20,
     "metadata": {},
     "output_type": "execute_result"
    }
   ],
   "source": [
    "feature_list_1_shot_level = shot_id_time_features\n",
    "feature_list_1_shot_level"
   ]
  },
  {
   "cell_type": "markdown",
   "metadata": {},
   "source": [
    "### Creating Avg./max blocking rates of opponent team on court (segment)"
   ]
  },
  {
   "cell_type": "markdown",
   "metadata": {},
   "source": [
    "### Game Player Level Blocking and Usage Stats \n",
    "#### 1. Get All players in each segment to make at same level as blocking stats df"
   ]
  },
  {
   "cell_type": "code",
   "execution_count": 21,
   "metadata": {},
   "outputs": [],
   "source": [
    "segments_df_long = fe_s.create_player_level_segment_df(dataframes_cs['segments_df'])"
   ]
  },
  {
   "cell_type": "code",
   "execution_count": 22,
   "metadata": {},
   "outputs": [],
   "source": [
    "segment_master_df, segment_master_df_game_player = fe_s.get_player_game_stats(segments_df_long,dataframes_cs['segments_players_usage_blocking_df'])"
   ]
  },
  {
   "cell_type": "code",
   "execution_count": 23,
   "metadata": {},
   "outputs": [],
   "source": [
    "team_game_player_stats_df = fe_s.get_all_team_player_game_stats(segment_master_df,segment_master_df_game_player,dataframes_cs['games_df'])\n"
   ]
  },
  {
   "cell_type": "markdown",
   "metadata": {},
   "source": [
    "As we have stats for each player for a game, now we can join this info at segment level and calculate averages for all players of opponent team"
   ]
  },
  {
   "cell_type": "code",
   "execution_count": 24,
   "metadata": {},
   "outputs": [
    {
     "name": "stdout",
     "output_type": "stream",
     "text": [
      "(0.0, 0.03125, 0.05555555555555555, 0.08333333333333333)\n",
      "(0.02247191011235955, 0.027777777777777776, 0.045454545454545456, 0.06451612903225806)\n",
      "0.021739130434782608 0.02631578947368421 0.041666666666666664 0.058823529411764705\n",
      "0.021551724137931036 0.02631578947368421 0.04176904176904177 0.058823529411764705\n"
     ]
    }
   ],
   "source": [
    "fe_s.get_segment_team_level_blockers(team_game_player_stats_df,segments_df_long,choose_threshold=True)"
   ]
  },
  {
   "cell_type": "code",
   "execution_count": 25,
   "metadata": {},
   "outputs": [],
   "source": [
    "segment_team_level_blockers = fe_s.get_segment_team_level_blockers(team_game_player_stats_df,segments_df_long) #BLOCKING_THRESHOLD=0.0306\n",
    "feature_list_2_game_segment_team_level = segment_team_level_blockers"
   ]
  },
  {
   "cell_type": "code",
   "execution_count": 26,
   "metadata": {},
   "outputs": [],
   "source": [
    "feature_list_3_game_segment_player_level = fe_s.get_segment_usage_ratios(segments_df_long,team_game_player_stats_df)"
   ]
  },
  {
   "cell_type": "markdown",
   "metadata": {},
   "source": [
    "#### Feature: Opposition Player Characteristics"
   ]
  },
  {
   "cell_type": "code",
   "execution_count": 27,
   "metadata": {},
   "outputs": [],
   "source": [
    "feature_list_4_game_segment_team_level = fe_s.get_segment_positions(segments_df_long,dataframes_cs['players_df'])"
   ]
  },
  {
   "cell_type": "markdown",
   "metadata": {},
   "source": [
    "Previous Season Feature creation"
   ]
  },
  {
   "cell_type": "code",
   "execution_count": 28,
   "metadata": {},
   "outputs": [],
   "source": [
    "segments_df_long = fe_s.create_player_level_segment_df(dataframes_ps['segments_df'])"
   ]
  },
  {
   "cell_type": "code",
   "execution_count": 29,
   "metadata": {},
   "outputs": [],
   "source": [
    "segment_master_df, segment_master_df_game_player = fe_s.get_player_game_stats(segments_df_long,dataframes_ps['segments_players_usage_blocking_df'])"
   ]
  },
  {
   "cell_type": "code",
   "execution_count": 30,
   "metadata": {},
   "outputs": [],
   "source": [
    "player_past_season_stats = fe_s.get_all_team_player_stats_last_season(segment_master_df_game_player)"
   ]
  },
  {
   "cell_type": "code",
   "execution_count": 31,
   "metadata": {},
   "outputs": [],
   "source": [
    "feature_list_5_player_level = player_past_season_stats"
   ]
  },
  {
   "cell_type": "code",
   "execution_count": 32,
   "metadata": {},
   "outputs": [],
   "source": [
    "altered_shots_df = fe_s.get_corrected_score_feature(dataframes_cs['shots_df'])"
   ]
  },
  {
   "cell_type": "markdown",
   "metadata": {},
   "source": [
    "Merging all features"
   ]
  },
  {
   "cell_type": "code",
   "execution_count": 33,
   "metadata": {},
   "outputs": [],
   "source": [
    "shots = fe_s.get_all_features_at_shot_level(altered_shots_df,dataframes_cs['segments_df'],feature_list_1_shot_level,feature_list_2_game_segment_team_level,feature_list_3_game_segment_player_level,feature_list_4_game_segment_team_level,feature_list_5_player_level)"
   ]
  },
  {
   "cell_type": "code",
   "execution_count": 34,
   "metadata": {},
   "outputs": [],
   "source": [
    "subset_cols = ['shot_id',\n",
    "       'score_pre_shot','score_pre_shot_diff', 'clutch_time',\n",
    "       'num_blockers_on_team', 'last_1_game_usage_ratio',\n",
    "       'last_3_game_usage_ratio', 'last_5_game_usage_ratio',\n",
    "       'last_10_game_usage_ratio','current_season_usage_ratio','past_season_usage_ratio', 'Big', 'Mid', 'Small']"
   ]
  },
  {
   "cell_type": "code",
   "execution_count": 35,
   "metadata": {},
   "outputs": [],
   "source": [
    "features_part_2 = shots[subset_cols]"
   ]
  },
  {
   "cell_type": "code",
   "execution_count": 36,
   "metadata": {},
   "outputs": [
    {
     "data": {
      "text/html": [
       "<div>\n",
       "<style scoped>\n",
       "    .dataframe tbody tr th:only-of-type {\n",
       "        vertical-align: middle;\n",
       "    }\n",
       "\n",
       "    .dataframe tbody tr th {\n",
       "        vertical-align: top;\n",
       "    }\n",
       "\n",
       "    .dataframe thead th {\n",
       "        text-align: right;\n",
       "    }\n",
       "</style>\n",
       "<table border=\"1\" class=\"dataframe\">\n",
       "  <thead>\n",
       "    <tr style=\"text-align: right;\">\n",
       "      <th></th>\n",
       "      <th>shot_id</th>\n",
       "      <th>score_pre_shot</th>\n",
       "      <th>score_pre_shot_diff</th>\n",
       "      <th>clutch_time</th>\n",
       "      <th>num_blockers_on_team</th>\n",
       "      <th>last_1_game_usage_ratio</th>\n",
       "      <th>last_3_game_usage_ratio</th>\n",
       "      <th>last_5_game_usage_ratio</th>\n",
       "      <th>last_10_game_usage_ratio</th>\n",
       "      <th>current_season_usage_ratio</th>\n",
       "      <th>past_season_usage_ratio</th>\n",
       "      <th>Big</th>\n",
       "      <th>Mid</th>\n",
       "      <th>Small</th>\n",
       "    </tr>\n",
       "  </thead>\n",
       "  <tbody>\n",
       "    <tr>\n",
       "      <th>0</th>\n",
       "      <td>636a63d48efc1cede33f6085</td>\n",
       "      <td>0</td>\n",
       "      <td>-3</td>\n",
       "      <td>0</td>\n",
       "      <td>0</td>\n",
       "      <td>NaN</td>\n",
       "      <td>NaN</td>\n",
       "      <td>NaN</td>\n",
       "      <td>NaN</td>\n",
       "      <td>NaN</td>\n",
       "      <td>NaN</td>\n",
       "      <td>1</td>\n",
       "      <td>3</td>\n",
       "      <td>1</td>\n",
       "    </tr>\n",
       "    <tr>\n",
       "      <th>1</th>\n",
       "      <td>636a63d48efc1cede33f6086</td>\n",
       "      <td>0</td>\n",
       "      <td>-6</td>\n",
       "      <td>0</td>\n",
       "      <td>0</td>\n",
       "      <td>NaN</td>\n",
       "      <td>NaN</td>\n",
       "      <td>NaN</td>\n",
       "      <td>NaN</td>\n",
       "      <td>NaN</td>\n",
       "      <td>NaN</td>\n",
       "      <td>1</td>\n",
       "      <td>3</td>\n",
       "      <td>1</td>\n",
       "    </tr>\n",
       "    <tr>\n",
       "      <th>2</th>\n",
       "      <td>636a63d48efc1cede33f6088</td>\n",
       "      <td>0</td>\n",
       "      <td>-6</td>\n",
       "      <td>0</td>\n",
       "      <td>0</td>\n",
       "      <td>NaN</td>\n",
       "      <td>NaN</td>\n",
       "      <td>NaN</td>\n",
       "      <td>NaN</td>\n",
       "      <td>NaN</td>\n",
       "      <td>NaN</td>\n",
       "      <td>1</td>\n",
       "      <td>3</td>\n",
       "      <td>1</td>\n",
       "    </tr>\n",
       "    <tr>\n",
       "      <th>3</th>\n",
       "      <td>636a63d48efc1cede33f608a</td>\n",
       "      <td>0</td>\n",
       "      <td>-7</td>\n",
       "      <td>0</td>\n",
       "      <td>0</td>\n",
       "      <td>NaN</td>\n",
       "      <td>NaN</td>\n",
       "      <td>NaN</td>\n",
       "      <td>NaN</td>\n",
       "      <td>NaN</td>\n",
       "      <td>NaN</td>\n",
       "      <td>1</td>\n",
       "      <td>3</td>\n",
       "      <td>1</td>\n",
       "    </tr>\n",
       "    <tr>\n",
       "      <th>4</th>\n",
       "      <td>636a63d48efc1cede33f6095</td>\n",
       "      <td>0</td>\n",
       "      <td>-7</td>\n",
       "      <td>0</td>\n",
       "      <td>0</td>\n",
       "      <td>NaN</td>\n",
       "      <td>NaN</td>\n",
       "      <td>NaN</td>\n",
       "      <td>NaN</td>\n",
       "      <td>NaN</td>\n",
       "      <td>NaN</td>\n",
       "      <td>1</td>\n",
       "      <td>3</td>\n",
       "      <td>1</td>\n",
       "    </tr>\n",
       "    <tr>\n",
       "      <th>...</th>\n",
       "      <td>...</td>\n",
       "      <td>...</td>\n",
       "      <td>...</td>\n",
       "      <td>...</td>\n",
       "      <td>...</td>\n",
       "      <td>...</td>\n",
       "      <td>...</td>\n",
       "      <td>...</td>\n",
       "      <td>...</td>\n",
       "      <td>...</td>\n",
       "      <td>...</td>\n",
       "      <td>...</td>\n",
       "      <td>...</td>\n",
       "      <td>...</td>\n",
       "    </tr>\n",
       "    <tr>\n",
       "      <th>664649</th>\n",
       "      <td>645d57b639354d6a0fda3380</td>\n",
       "      <td>73</td>\n",
       "      <td>-11</td>\n",
       "      <td>0</td>\n",
       "      <td>1</td>\n",
       "      <td>0.169492</td>\n",
       "      <td>0.173679</td>\n",
       "      <td>0.170033</td>\n",
       "      <td>0.190997</td>\n",
       "      <td>0.197837</td>\n",
       "      <td>0.228142</td>\n",
       "      <td>2</td>\n",
       "      <td>2</td>\n",
       "      <td>1</td>\n",
       "    </tr>\n",
       "    <tr>\n",
       "      <th>664650</th>\n",
       "      <td>645d57b639354d6a0fda3382</td>\n",
       "      <td>73</td>\n",
       "      <td>-11</td>\n",
       "      <td>0</td>\n",
       "      <td>1</td>\n",
       "      <td>0.212766</td>\n",
       "      <td>0.221935</td>\n",
       "      <td>0.226966</td>\n",
       "      <td>0.216381</td>\n",
       "      <td>0.198397</td>\n",
       "      <td>0.275670</td>\n",
       "      <td>2</td>\n",
       "      <td>2</td>\n",
       "      <td>1</td>\n",
       "    </tr>\n",
       "    <tr>\n",
       "      <th>664651</th>\n",
       "      <td>645d57b639354d6a0fda3386</td>\n",
       "      <td>76</td>\n",
       "      <td>-10</td>\n",
       "      <td>0</td>\n",
       "      <td>1</td>\n",
       "      <td>0.345882</td>\n",
       "      <td>0.324706</td>\n",
       "      <td>0.335132</td>\n",
       "      <td>0.320195</td>\n",
       "      <td>0.331507</td>\n",
       "      <td>0.334756</td>\n",
       "      <td>2</td>\n",
       "      <td>3</td>\n",
       "      <td>0</td>\n",
       "    </tr>\n",
       "    <tr>\n",
       "      <th>664652</th>\n",
       "      <td>645d57b639354d6a0fda338a</td>\n",
       "      <td>76</td>\n",
       "      <td>-11</td>\n",
       "      <td>0</td>\n",
       "      <td>0</td>\n",
       "      <td>0.169492</td>\n",
       "      <td>0.173679</td>\n",
       "      <td>0.170033</td>\n",
       "      <td>0.190997</td>\n",
       "      <td>0.197837</td>\n",
       "      <td>0.228142</td>\n",
       "      <td>1</td>\n",
       "      <td>4</td>\n",
       "      <td>0</td>\n",
       "    </tr>\n",
       "    <tr>\n",
       "      <th>664653</th>\n",
       "      <td>645d57b639354d6a0fda338c</td>\n",
       "      <td>76</td>\n",
       "      <td>-13</td>\n",
       "      <td>0</td>\n",
       "      <td>0</td>\n",
       "      <td>0.102041</td>\n",
       "      <td>0.162895</td>\n",
       "      <td>0.170164</td>\n",
       "      <td>0.191390</td>\n",
       "      <td>0.176416</td>\n",
       "      <td>0.159298</td>\n",
       "      <td>1</td>\n",
       "      <td>4</td>\n",
       "      <td>0</td>\n",
       "    </tr>\n",
       "  </tbody>\n",
       "</table>\n",
       "<p>664654 rows × 14 columns</p>\n",
       "</div>"
      ],
      "text/plain": [
       "                         shot_id  score_pre_shot  score_pre_shot_diff  \\\n",
       "0       636a63d48efc1cede33f6085               0                   -3   \n",
       "1       636a63d48efc1cede33f6086               0                   -6   \n",
       "2       636a63d48efc1cede33f6088               0                   -6   \n",
       "3       636a63d48efc1cede33f608a               0                   -7   \n",
       "4       636a63d48efc1cede33f6095               0                   -7   \n",
       "...                          ...             ...                  ...   \n",
       "664649  645d57b639354d6a0fda3380              73                  -11   \n",
       "664650  645d57b639354d6a0fda3382              73                  -11   \n",
       "664651  645d57b639354d6a0fda3386              76                  -10   \n",
       "664652  645d57b639354d6a0fda338a              76                  -11   \n",
       "664653  645d57b639354d6a0fda338c              76                  -13   \n",
       "\n",
       "        clutch_time  num_blockers_on_team  last_1_game_usage_ratio  \\\n",
       "0                 0                     0                      NaN   \n",
       "1                 0                     0                      NaN   \n",
       "2                 0                     0                      NaN   \n",
       "3                 0                     0                      NaN   \n",
       "4                 0                     0                      NaN   \n",
       "...             ...                   ...                      ...   \n",
       "664649            0                     1                 0.169492   \n",
       "664650            0                     1                 0.212766   \n",
       "664651            0                     1                 0.345882   \n",
       "664652            0                     0                 0.169492   \n",
       "664653            0                     0                 0.102041   \n",
       "\n",
       "        last_3_game_usage_ratio  last_5_game_usage_ratio  \\\n",
       "0                           NaN                      NaN   \n",
       "1                           NaN                      NaN   \n",
       "2                           NaN                      NaN   \n",
       "3                           NaN                      NaN   \n",
       "4                           NaN                      NaN   \n",
       "...                         ...                      ...   \n",
       "664649                 0.173679                 0.170033   \n",
       "664650                 0.221935                 0.226966   \n",
       "664651                 0.324706                 0.335132   \n",
       "664652                 0.173679                 0.170033   \n",
       "664653                 0.162895                 0.170164   \n",
       "\n",
       "        last_10_game_usage_ratio  current_season_usage_ratio  \\\n",
       "0                            NaN                         NaN   \n",
       "1                            NaN                         NaN   \n",
       "2                            NaN                         NaN   \n",
       "3                            NaN                         NaN   \n",
       "4                            NaN                         NaN   \n",
       "...                          ...                         ...   \n",
       "664649                  0.190997                    0.197837   \n",
       "664650                  0.216381                    0.198397   \n",
       "664651                  0.320195                    0.331507   \n",
       "664652                  0.190997                    0.197837   \n",
       "664653                  0.191390                    0.176416   \n",
       "\n",
       "        past_season_usage_ratio  Big  Mid  Small  \n",
       "0                           NaN    1    3      1  \n",
       "1                           NaN    1    3      1  \n",
       "2                           NaN    1    3      1  \n",
       "3                           NaN    1    3      1  \n",
       "4                           NaN    1    3      1  \n",
       "...                         ...  ...  ...    ...  \n",
       "664649                 0.228142    2    2      1  \n",
       "664650                 0.275670    2    2      1  \n",
       "664651                 0.334756    2    3      0  \n",
       "664652                 0.228142    1    4      0  \n",
       "664653                 0.159298    1    4      0  \n",
       "\n",
       "[664654 rows x 14 columns]"
      ]
     },
     "execution_count": 36,
     "metadata": {},
     "output_type": "execute_result"
    }
   ],
   "source": [
    "features_part_2"
   ]
  },
  {
   "cell_type": "markdown",
   "metadata": {},
   "source": [
    "## Features Part 3"
   ]
  },
  {
   "cell_type": "markdown",
   "metadata": {},
   "source": [
    "### Past Season"
   ]
  },
  {
   "cell_type": "code",
   "execution_count": 37,
   "metadata": {},
   "outputs": [],
   "source": [
    "#Import neccessary pickle files\n",
    "shots = dataframes_ps['shots_df'].copy()\n",
    "player = dataframes_ps['players_df'].copy()\n",
    "segment = dataframes_ps['segments_df'].copy()"
   ]
  },
  {
   "cell_type": "code",
   "execution_count": 38,
   "metadata": {},
   "outputs": [],
   "source": [
    "segment = segment[['game_id','players_team1','players_team2']]\n",
    "segment[\"all_players\"] = segment[\"players_team1\"]+segment[\"players_team2\"]\n",
    "segments_df_long = segment.explode([\"all_players\"])\n",
    "segments_df_long = segments_df_long.drop(columns=['players_team1','players_team2'])\n",
    "segments_df_long = segments_df_long.drop_duplicates()"
   ]
  },
  {
   "cell_type": "code",
   "execution_count": 39,
   "metadata": {},
   "outputs": [],
   "source": [
    "segments_df_long['played'] = 1\n",
    "segments_df_long = segments_df_long.drop(columns=['game_id']).groupby(['all_players']).sum().reset_index()"
   ]
  },
  {
   "cell_type": "markdown",
   "metadata": {},
   "source": [
    "Create a dataframe with all possible combinations of player_id, season_id, team_id"
   ]
  },
  {
   "cell_type": "code",
   "execution_count": 40,
   "metadata": {},
   "outputs": [],
   "source": [
    "#merge the players with the shots dataframe to add the team_id column \n",
    "#that is neccessary for merging with the games dataframe\n",
    "player_team = pd.merge(player[['player','seasonid']].rename(columns={'seasonid':'season_id','player':'player_id'}),\n",
    "    shots[['team_id','season_id']].drop_duplicates(), how='left', on='season_id')"
   ]
  },
  {
   "cell_type": "code",
   "execution_count": 41,
   "metadata": {},
   "outputs": [],
   "source": [
    "player_team = pd.merge(player_team, segments_df_long.rename(columns={'all_players':'player_id'}), on=['player_id'], how='left')\n",
    "player_team.played = player_team.played.fillna(0).astype(int)"
   ]
  },
  {
   "cell_type": "code",
   "execution_count": 42,
   "metadata": {},
   "outputs": [],
   "source": [
    "#Split the Stat column into 2s/3s and Makes/Misses\n",
    "shots_df = shots.copy()\n",
    "shots_df.insert(13, 'Type', shots_df.Stat.str[:-4])\n",
    "shots_df.insert(14, 'Result', shots_df.Stat.str[-4:])\n",
    "shots_df.Result = np.where(shots_df.Result=='Make', 1, 0)"
   ]
  },
  {
   "cell_type": "markdown",
   "metadata": {},
   "source": [
    "Feature creation for 2 pointers"
   ]
  },
  {
   "cell_type": "code",
   "execution_count": 43,
   "metadata": {},
   "outputs": [],
   "source": [
    "#Filter on 2 point shots\n",
    "Twos_df = shots_df[shots_df.Type=='Two']\n",
    "two_pointers_df = Twos_df.groupby(['player_id']).Result.agg(\n",
    "    ['sum','count']).reset_index().rename(columns={'sum':'2PM', 'count':'2PA'})"
   ]
  },
  {
   "cell_type": "code",
   "execution_count": 44,
   "metadata": {},
   "outputs": [],
   "source": [
    "#merge with the dataframe containing the team_id, game_id, player_id combinations\n",
    "two_pointers_df = pd.merge(player_team[['player_id','played']], two_pointers_df, how= 'left', on='player_id').fillna(0)"
   ]
  },
  {
   "cell_type": "code",
   "execution_count": 45,
   "metadata": {},
   "outputs": [],
   "source": [
    "#Create made and attempted game totals for each of the following shot types\n",
    "for stat in ['Dunk', 'Layup', 'Floater', 'Hook Shot', 'Jumpshot', 'Pullup', 'Turnaround', 'Step Back']:\n",
    "    temp = Twos_df[Twos_df[stat]==True]\n",
    "    temp_df = temp.groupby(['player_id']).Result.agg(['sum','count']).reset_index().rename(\n",
    "        columns={'sum': stat+'s made', 'count': stat+'s attempted'})\n",
    "    two_pointers_df = pd.merge(two_pointers_df, temp_df, how= 'left', on=['player_id']).fillna(0)"
   ]
  },
  {
   "cell_type": "code",
   "execution_count": 46,
   "metadata": {},
   "outputs": [],
   "source": [
    "#Calculated percentage of made 2p jumpshots that were assisted\n",
    "temp_df = Twos_df[(Twos_df['Jumpshot']==True)&(Twos_df['Result']==1)].groupby(\n",
    "    ['player_id'])['Assisted'].sum().reset_index().rename(columns={'Assisted': 'Jumpshots assisted on'})"
   ]
  },
  {
   "cell_type": "code",
   "execution_count": 47,
   "metadata": {},
   "outputs": [],
   "source": [
    "two_pointers_df = pd.merge(two_pointers_df, temp_df, how= 'left', on=['player_id']).fillna(0)"
   ]
  },
  {
   "cell_type": "code",
   "execution_count": 48,
   "metadata": {},
   "outputs": [],
   "source": [
    "#2P% per zone for each player\n",
    "Zones2 = Twos_df.groupby(['player_id','Zone']).Result.agg(['sum','count']).reset_index()"
   ]
  },
  {
   "cell_type": "code",
   "execution_count": 49,
   "metadata": {},
   "outputs": [],
   "source": [
    "#Pivot on Zone column before merging with the features dataframe\n",
    "pivot_zones = Zones2.pivot(index=['player_id'], columns='Zone')[['sum','count']].reset_index().rename(\n",
    "    columns={'sum':'made','count':'attempted'})\n",
    "pivot_zones.columns = pivot_zones.columns.map(lambda x: f'{x[1]} {x[0]}')#merge the two index level names\n",
    "pivot_zones.columns = pivot_zones.columns.map(lambda x: x[1:])#remove leading space"
   ]
  },
  {
   "cell_type": "code",
   "execution_count": 50,
   "metadata": {},
   "outputs": [],
   "source": [
    "two_pointers_df = pd.merge(two_pointers_df, pivot_zones, how= 'left', on=['player_id']).fillna(0)"
   ]
  },
  {
   "cell_type": "code",
   "execution_count": 51,
   "metadata": {},
   "outputs": [],
   "source": [
    "two_pointers_df.insert(4, '2P%', two_pointers_df['2PM']/two_pointers_df['2PA'])\n",
    "two_pointers_df.insert(7, 'Dunk FG%', two_pointers_df['Dunks made']/two_pointers_df['Dunks attempted'])\n",
    "two_pointers_df.insert(10, 'Layup FG%', two_pointers_df['Layups made']/two_pointers_df['Layups attempted'])\n",
    "two_pointers_df.insert(13, 'Floater FG%', two_pointers_df['Floaters made']/two_pointers_df['Floaters attempted'])\n",
    "two_pointers_df.insert(16, 'Hook Shot FG%', two_pointers_df['Hook Shots made']/two_pointers_df['Hook Shots attempted'])\n",
    "two_pointers_df.insert(19, 'Jumpshot FG%', two_pointers_df['Jumpshots made']/two_pointers_df['Jumpshots attempted'])\n",
    "two_pointers_df.insert(22, 'Pullup FG%', two_pointers_df['Pullups made']/two_pointers_df['Pullups attempted'])\n",
    "two_pointers_df.insert(25, 'Turnaround FG%', two_pointers_df['Turnarounds made']/two_pointers_df['Turnarounds attempted'])\n",
    "two_pointers_df.insert(28, 'Step Back FG%', two_pointers_df['Step Backs made']/two_pointers_df['Step Backs attempted'])\n",
    "two_pointers_df.insert(30, 'Jumpshots assisted%', two_pointers_df['Jumpshots assisted on']/two_pointers_df['2PM'])\n",
    "two_pointers_df['zone 1 FG%'] = two_pointers_df['1 made']/two_pointers_df['1 attempted']\n",
    "two_pointers_df['zone 2-1 FG%'] = two_pointers_df['2-1 made']/two_pointers_df['2-1 attempted']\n",
    "two_pointers_df['zone 2-2 FG%'] = two_pointers_df['2-2 made']/two_pointers_df['2-2 attempted']\n",
    "two_pointers_df['zone 2-3 FG%'] = two_pointers_df['2-3 made']/two_pointers_df['2-3 attempted']\n",
    "two_pointers_df['zone 3-1 FG%'] = two_pointers_df['3-1 made']/two_pointers_df['3-1 attempted']\n",
    "two_pointers_df['zone 3-2 FG%'] = two_pointers_df['3-2 made']/two_pointers_df['3-2 attempted']\n",
    "two_pointers_df['zone 3-3 FG%'] = two_pointers_df['3-3 made']/two_pointers_df['3-3 attempted']\n",
    "two_pointers_df['zone 4-1 FG%'] = two_pointers_df['4-1 made']/two_pointers_df['4-1 attempted']\n",
    "two_pointers_df['zone 4-2 FG%'] = two_pointers_df['4-2 made']/two_pointers_df['4-2 attempted']\n",
    "two_pointers_df['zone 4-3 FG%'] = two_pointers_df['4-3 made']/two_pointers_df['4-3 attempted']"
   ]
  },
  {
   "cell_type": "code",
   "execution_count": 52,
   "metadata": {},
   "outputs": [],
   "source": [
    "two_pointers_df['2PM'] = two_pointers_df['2PM']/two_pointers_df.played\n",
    "two_pointers_df['2PA'] = two_pointers_df['2PA']/two_pointers_df.played\n",
    "two_pointers_df['Dunks made'] = two_pointers_df['Dunks made']/two_pointers_df.played\n",
    "two_pointers_df['Dunks attempted'] = two_pointers_df['Dunks attempted']/two_pointers_df.played\n",
    "two_pointers_df['Layups made'] = two_pointers_df['Layups made']/two_pointers_df.played\n",
    "two_pointers_df['Layups attempted'] = two_pointers_df['Layups attempted']/two_pointers_df.played\n",
    "two_pointers_df['Floaters made'] = two_pointers_df['Floaters made']/two_pointers_df.played\n",
    "two_pointers_df['Floaters attempted'] = two_pointers_df['Floaters attempted']/two_pointers_df.played\n",
    "two_pointers_df['Hook Shots made'] = two_pointers_df['Hook Shots made']/two_pointers_df.played\n",
    "two_pointers_df['Hook Shots attempted'] = two_pointers_df['Hook Shots attempted']/two_pointers_df.played\n",
    "two_pointers_df['Jumpshots made'] = two_pointers_df['Jumpshots made']/two_pointers_df.played\n",
    "two_pointers_df['Jumpshots attempted'] = two_pointers_df['Jumpshots attempted']/two_pointers_df.played\n",
    "two_pointers_df['Pullups made'] = two_pointers_df['Pullups made']/two_pointers_df.played\n",
    "two_pointers_df['Pullups attempted'] = two_pointers_df['Pullups attempted']/two_pointers_df.played\n",
    "two_pointers_df['Turnarounds made'] = two_pointers_df['Turnarounds made']/two_pointers_df.played\n",
    "two_pointers_df['Turnarounds attempted'] = two_pointers_df['Turnarounds attempted']/two_pointers_df.played\n",
    "two_pointers_df['Step Backs made'] = two_pointers_df['Step Backs made']/two_pointers_df.played\n",
    "two_pointers_df['Step Backs attempted'] = two_pointers_df['Step Backs attempted']/two_pointers_df.played\n",
    "two_pointers_df['1 made'] = two_pointers_df['1 made']/two_pointers_df.played\n",
    "two_pointers_df['1 attempted'] = two_pointers_df['1 attempted']/two_pointers_df.played\n",
    "two_pointers_df['2-1 made'] = two_pointers_df['2-1 made']/two_pointers_df.played\n",
    "two_pointers_df['2-1 attempted'] = two_pointers_df['2-1 attempted']/two_pointers_df.played\n",
    "two_pointers_df['2-2 made'] = two_pointers_df['2-2 made']/two_pointers_df.played\n",
    "two_pointers_df['2-2 attempted'] = two_pointers_df['2-2 attempted']/two_pointers_df.played\n",
    "two_pointers_df['2-3 made'] = two_pointers_df['2-3 made']/two_pointers_df.played\n",
    "two_pointers_df['2-3 attempted'] = two_pointers_df['2-3 attempted']/two_pointers_df.played\n",
    "two_pointers_df['3-1 made'] = two_pointers_df['3-1 made']/two_pointers_df.played\n",
    "two_pointers_df['3-1 attempted'] = two_pointers_df['3-1 attempted']/two_pointers_df.played\n",
    "two_pointers_df['3-2 made'] = two_pointers_df['3-2 made']/two_pointers_df.played\n",
    "two_pointers_df['3-2 attempted'] = two_pointers_df['3-2 attempted']/two_pointers_df.played\n",
    "two_pointers_df['3-3 made'] = two_pointers_df['3-3 made']/two_pointers_df.played\n",
    "two_pointers_df['3-3 attempted'] = two_pointers_df['3-3 attempted']/two_pointers_df.played\n",
    "two_pointers_df['4-1 made'] = two_pointers_df['4-1 made']/two_pointers_df.played\n",
    "two_pointers_df['4-1 attempted'] = two_pointers_df['4-1 attempted']/two_pointers_df.played\n",
    "two_pointers_df['4-2 made'] = two_pointers_df['4-2 made']/two_pointers_df.played\n",
    "two_pointers_df['4-2 attempted'] = two_pointers_df['4-2 attempted']/two_pointers_df.played\n",
    "two_pointers_df['4-3 made'] = two_pointers_df['4-3 made']/two_pointers_df.played\n",
    "two_pointers_df['4-3 attempted'] = two_pointers_df['4-3 attempted']/two_pointers_df.played"
   ]
  },
  {
   "cell_type": "code",
   "execution_count": 53,
   "metadata": {},
   "outputs": [],
   "source": [
    "two_pointers_df = two_pointers_df.add_prefix(\"Last_season \")\n",
    "two_pointers_df = two_pointers_df.rename(columns={'Last_season player_id':'player_id'})"
   ]
  },
  {
   "cell_type": "markdown",
   "metadata": {},
   "source": [
    "Feature creation for 3 pointers"
   ]
  },
  {
   "cell_type": "code",
   "execution_count": 54,
   "metadata": {},
   "outputs": [],
   "source": [
    "#Filter on 3 point shots\n",
    "Threes_df = shots_df[shots_df.Type=='Three']\n",
    "three_pointers_df = Threes_df.groupby(['player_id']).Result.agg(\n",
    "    ['sum','count']).reset_index().rename(columns={'sum':'3PM', 'count':'3PA'})"
   ]
  },
  {
   "cell_type": "code",
   "execution_count": 55,
   "metadata": {},
   "outputs": [],
   "source": [
    "#merge with the dataframe containing the team_id, game_id, player_id combinations\n",
    "three_pointers_df = pd.merge(player_team[['player_id','played']], three_pointers_df, how= 'left', on=['player_id']).fillna(0)"
   ]
  },
  {
   "cell_type": "code",
   "execution_count": 56,
   "metadata": {},
   "outputs": [],
   "source": [
    "#Create made and attempted game totals for each of the following shot types\n",
    "for stat in ['Jumpshot', 'Pullup', 'Step Back']:\n",
    "    temp = Threes_df[Threes_df[stat]==True]\n",
    "    temp_df = temp.groupby(['player_id']).Result.agg(\n",
    "        ['sum','count']).reset_index().rename(columns={'sum': '3P '+stat+'s made', 'count': '3P '+stat+'s attempted'})\n",
    "    three_pointers_df = pd.merge(three_pointers_df, temp_df, how= 'left', on=['player_id']).fillna(0)"
   ]
  },
  {
   "cell_type": "code",
   "execution_count": 57,
   "metadata": {},
   "outputs": [],
   "source": [
    "#Calculated percentage of made 3p jumpshots that were assisted\n",
    "temp_df = Threes_df[(Threes_df['Jumpshot']==True)&(Threes_df['Result']==1)].groupby(\n",
    "    ['player_id'])['Assisted'].sum().reset_index().rename(columns={'Assisted': '3P Jumpshots assisted on'})"
   ]
  },
  {
   "cell_type": "code",
   "execution_count": 58,
   "metadata": {},
   "outputs": [],
   "source": [
    "three_pointers_df = pd.merge(three_pointers_df, temp_df, how= 'left', on=['player_id']).fillna(0)"
   ]
  },
  {
   "cell_type": "code",
   "execution_count": 59,
   "metadata": {},
   "outputs": [],
   "source": [
    "#3P% per zone for each player\n",
    "Zones3 = Threes_df.groupby(['player_id','Zone']).Result.agg(['sum','count']).reset_index()"
   ]
  },
  {
   "cell_type": "code",
   "execution_count": 60,
   "metadata": {},
   "outputs": [],
   "source": [
    "#Pivot on Zone column before merging with the features dataframe\n",
    "pivot_zones = Zones3.pivot(index=['player_id'], columns='Zone')[['sum','count']].reset_index().rename(\n",
    "    columns={'sum':'made','count':'attempted'})\n",
    "pivot_zones.columns = pivot_zones.columns.map(lambda x: f'{x[1]} {x[0]}')#merge the two index level names\n",
    "pivot_zones.columns = pivot_zones.columns.map(lambda x: x[1:])##remove leading space"
   ]
  },
  {
   "cell_type": "code",
   "execution_count": 61,
   "metadata": {},
   "outputs": [],
   "source": [
    "three_pointers_df = pd.merge(three_pointers_df, pivot_zones, how= 'left', on=['player_id']).fillna(0)"
   ]
  },
  {
   "cell_type": "code",
   "execution_count": 62,
   "metadata": {},
   "outputs": [],
   "source": [
    "#For each dataframe and each shot/zone type compute the respective percentages\n",
    "three_pointers_df.insert(4, '3P%', three_pointers_df['3PM']/three_pointers_df['3PA'])\n",
    "three_pointers_df.insert(7, 'Jumpshots 3P%', three_pointers_df['3P Jumpshots made']/three_pointers_df['3P Jumpshots attempted'])\n",
    "three_pointers_df.insert(10, 'Pullups 3P%', three_pointers_df['3P Pullups made']/three_pointers_df['3P Pullups attempted'])\n",
    "three_pointers_df.insert(13, 'Step Backs 3P%', three_pointers_df['3P Step Backs made']/three_pointers_df['3P Step Backs attempted'])\n",
    "three_pointers_df.insert(16, '3P Jumpshots assisted%', three_pointers_df['3P Jumpshots assisted on']/three_pointers_df['3PM'])\n",
    "three_pointers_df['zone 5-1 FG%'] = three_pointers_df['5-1 made']/three_pointers_df['5-1 attempted']\n",
    "three_pointers_df['zone 5-2 FG%'] = three_pointers_df['5-2 made']/three_pointers_df['5-2 attempted']\n",
    "three_pointers_df['zone 6-1 FG%'] = three_pointers_df['6-1 made']/three_pointers_df['6-1 attempted']\n",
    "three_pointers_df['zone 6-2 FG%'] = three_pointers_df['6-2 made']/three_pointers_df['6-2 attempted']\n",
    "three_pointers_df['zone 6-3 FG%'] = three_pointers_df['6-3 made']/three_pointers_df['6-3 attempted']\n",
    "three_pointers_df['zone 7-1 FG%'] = three_pointers_df['7-1 made']/three_pointers_df['7-1 attempted']\n",
    "three_pointers_df['zone 7-2 FG%'] = three_pointers_df['7-2 made']/three_pointers_df['7-2 attempted']\n",
    "three_pointers_df['zone 7-3 FG%'] = three_pointers_df['7-3 made']/three_pointers_df['7-3 attempted']"
   ]
  },
  {
   "cell_type": "code",
   "execution_count": 63,
   "metadata": {},
   "outputs": [],
   "source": [
    "three_pointers_df['3PM'] = three_pointers_df['3PM']/three_pointers_df.played\n",
    "three_pointers_df['3PA'] = three_pointers_df['3PA']/three_pointers_df.played\n",
    "three_pointers_df['3P Jumpshots made'] = three_pointers_df['3P Jumpshots made']/three_pointers_df.played\n",
    "three_pointers_df['3P Jumpshots attempted'] = three_pointers_df['3P Jumpshots attempted']/three_pointers_df.played\n",
    "three_pointers_df['3P Pullups made'] = three_pointers_df['3P Pullups made']/three_pointers_df.played\n",
    "three_pointers_df['3P Pullups attempted'] = three_pointers_df['3P Pullups attempted']/three_pointers_df.played\n",
    "three_pointers_df['3P Step Backs made'] = three_pointers_df['3P Step Backs made']/three_pointers_df.played\n",
    "three_pointers_df['3P Step Backs attempted'] = three_pointers_df['3P Step Backs attempted']/three_pointers_df.played\n",
    "three_pointers_df['5-1 made'] = three_pointers_df['5-1 made']/three_pointers_df.played\n",
    "three_pointers_df['5-1 attempted'] = three_pointers_df['5-1 attempted']/three_pointers_df.played\n",
    "three_pointers_df['5-2 made'] = three_pointers_df['5-2 made']/three_pointers_df.played\n",
    "three_pointers_df['5-2 attempted'] = three_pointers_df['5-2 attempted']/three_pointers_df.played\n",
    "three_pointers_df['6-1 made'] = three_pointers_df['6-1 made']/three_pointers_df.played\n",
    "three_pointers_df['6-1 attempted'] = three_pointers_df['6-1 attempted']/three_pointers_df.played\n",
    "three_pointers_df['6-2 made'] = three_pointers_df['6-2 made']/three_pointers_df.played\n",
    "three_pointers_df['6-2 attempted'] = three_pointers_df['6-2 attempted']/three_pointers_df.played\n",
    "three_pointers_df['6-3 made'] = three_pointers_df['6-3 made']/three_pointers_df.played\n",
    "three_pointers_df['6-3 attempted'] = three_pointers_df['6-3 attempted']/three_pointers_df.played\n",
    "three_pointers_df['7-1 made'] = three_pointers_df['7-1 made']/three_pointers_df.played\n",
    "three_pointers_df['7-1 attempted'] = three_pointers_df['7-1 attempted']/three_pointers_df.played\n",
    "three_pointers_df['7-2 made'] = three_pointers_df['7-2 made']/three_pointers_df.played\n",
    "three_pointers_df['7-2 attempted'] = three_pointers_df['7-2 attempted']/three_pointers_df.played\n",
    "three_pointers_df['7-3 made'] = three_pointers_df['7-3 made']/three_pointers_df.played\n",
    "three_pointers_df['7-3 attempted'] = three_pointers_df['7-3 attempted']/three_pointers_df.played\n"
   ]
  },
  {
   "cell_type": "code",
   "execution_count": 64,
   "metadata": {},
   "outputs": [],
   "source": [
    "three_pointers_df = three_pointers_df.add_prefix(\"Last_season \")\n",
    "three_pointers_df = three_pointers_df.rename(columns={'Last_season player_id':'player_id'})"
   ]
  },
  {
   "cell_type": "markdown",
   "metadata": {},
   "source": [
    "### Current Season"
   ]
  },
  {
   "cell_type": "code",
   "execution_count": 65,
   "metadata": {},
   "outputs": [],
   "source": [
    "#Import neccessary pickle files\n",
    "games = dataframes_cs[\"games_df\"].copy()\n",
    "shots = dataframes_cs['shots_df'].copy()\n",
    "player = dataframes_cs['players_df'].copy()\n",
    "segment = dataframes_cs['segments_df'].copy()\n",
    "Last_season_2P_features_df = two_pointers_df.copy()\n",
    "Last_season_3P_features_df = three_pointers_df.copy()"
   ]
  },
  {
   "cell_type": "code",
   "execution_count": 66,
   "metadata": {},
   "outputs": [],
   "source": [
    "segment = segment[['game_id','players_team1','players_team2']]\n",
    "segment[\"all_players\"] = segment[\"players_team1\"]+segment[\"players_team2\"]\n",
    "segments_df_long = segment.explode([\"all_players\"])\n",
    "segments_df_long = segments_df_long.drop(columns=['players_team1','players_team2'])\n",
    "segments_df_long = segments_df_long.drop_duplicates()\n"
   ]
  },
  {
   "cell_type": "code",
   "execution_count": 67,
   "metadata": {},
   "outputs": [],
   "source": [
    "segments_df_long['played']=1"
   ]
  },
  {
   "cell_type": "markdown",
   "metadata": {},
   "source": [
    "Create a dataframe with all possible combinations of team_id, game_id, player_id"
   ]
  },
  {
   "cell_type": "code",
   "execution_count": 68,
   "metadata": {},
   "outputs": [],
   "source": [
    "#First we will melt the games dataframe two combine the team 1 and and team 2 columns into one\n",
    "games_df = pd.melt(games, id_vars=['game_id','season','league','date','has_locations','has_segments','hometeam'], \n",
    "                   value_vars=['team1', 'team2'], value_name='team_id').drop(columns=['variable'])\n",
    "#Next, we will sort the dataframe from newest to oldest date\n",
    "games_df.date = games_df.date.apply(pd.to_datetime)\n",
    "games_df = games_df.sort_values(['date'], ascending=False)"
   ]
  },
  {
   "cell_type": "code",
   "execution_count": 69,
   "metadata": {},
   "outputs": [],
   "source": [
    "#create a new column to track the number of games each team has played since the current one\n",
    "games_df['games played since'] = games_df.groupby(games_df.team_id).cumcount()"
   ]
  },
  {
   "cell_type": "code",
   "execution_count": 70,
   "metadata": {},
   "outputs": [],
   "source": [
    "#merge the players with the shots dataframe to add the team_id column \n",
    "#that is neccessary for merging with the games dataframe\n",
    "player_team = pd.merge(player.rename(columns={'seasonid':'season_id'}), shots[['team_id','season_id']].drop_duplicates(),\n",
    "                        how='left', on='season_id')"
   ]
  },
  {
   "cell_type": "code",
   "execution_count": 71,
   "metadata": {},
   "outputs": [],
   "source": [
    "#Finally create the dataframe with all the neccessary columns \n",
    "team_player_game_df = pd.merge(player_team[['team_id','player']], games_df[['team_id','game_id','games played since']], \n",
    "                               on='team_id').rename(columns={'player':'player_id'})\n",
    "\n",
    "# team_player_game_df.to_pickle(\"team_player_game_df.pickle\") "
   ]
  },
  {
   "cell_type": "code",
   "execution_count": 72,
   "metadata": {},
   "outputs": [],
   "source": [
    "#Find the maximum number of games for one team (will be used later)\n",
    "most_team_games = team_player_game_df['games played since'].max()+1"
   ]
  },
  {
   "cell_type": "code",
   "execution_count": 73,
   "metadata": {},
   "outputs": [],
   "source": [
    "team_player_game_df = pd.merge(team_player_game_df, segments_df_long.rename(columns={'all_players':'player_id'}), on=['game_id','player_id'], how='left')\n",
    "team_player_game_df.played = team_player_game_df.played.fillna(0).astype(int)\n"
   ]
  },
  {
   "cell_type": "code",
   "execution_count": 74,
   "metadata": {},
   "outputs": [],
   "source": [
    "#Split the Stat column into 2s/3s and Makes/Misses\n",
    "shots_df = shots.copy()\n",
    "shots_df.insert(13, 'Type', shots_df.Stat.str[:-4])\n",
    "shots_df.insert(14, 'Result', shots_df.Stat.str[-4:])\n",
    "shots_df.Result = np.where(shots_df.Result=='Make', 1, 0)"
   ]
  },
  {
   "cell_type": "code",
   "execution_count": 75,
   "metadata": {},
   "outputs": [],
   "source": [
    "#Column D1 is a binary True/False variable that keeps track of whether or not that takes the shots plays for a D1 team\n",
    "player['D1'] = True\n",
    "shots_df = pd.merge(shots_df, player[['player', 'D1']].rename(columns={'player':'player_id'}), on='player_id', how='left')\n",
    "shots_df['D1'] = shots_df['D1'].fillna(False)"
   ]
  },
  {
   "cell_type": "markdown",
   "metadata": {},
   "source": [
    "Feature creation for 2 pointers"
   ]
  },
  {
   "cell_type": "code",
   "execution_count": 76,
   "metadata": {},
   "outputs": [],
   "source": [
    "#Filter on 2 point shots\n",
    "Twos_df = shots_df[shots_df.Type=='Two']\n",
    "two_pointers_df = Twos_df.groupby(['player_id','game_id']).Result.agg(\n",
    "    ['sum','count']).reset_index().rename(columns={'sum':'2PM', 'count':'2PA'})"
   ]
  },
  {
   "cell_type": "code",
   "execution_count": 77,
   "metadata": {},
   "outputs": [],
   "source": [
    "#merge with the dataframe containing the team_id, game_id, player_id combinations\n",
    "two_pointers_df = pd.merge(team_player_game_df, two_pointers_df, how= 'left', on=['player_id','game_id']).fillna(0)"
   ]
  },
  {
   "cell_type": "code",
   "execution_count": 78,
   "metadata": {},
   "outputs": [],
   "source": [
    "#Create made and attempted game totals for each of the following shot types\n",
    "for stat in ['Dunk', 'Layup', 'Floater', 'Hook Shot', 'Jumpshot', 'Pullup', 'Turnaround', 'Step Back']:\n",
    "    temp = Twos_df[Twos_df[stat]==True]\n",
    "    temp_df = temp.groupby(['player_id','game_id']).Result.agg(['sum','count']).reset_index().rename(\n",
    "        columns={'sum': stat+'s made', 'count': stat+'s attempted'})\n",
    "    two_pointers_df = pd.merge(two_pointers_df, temp_df, how= 'left', on=['player_id','game_id']).fillna(0)"
   ]
  },
  {
   "cell_type": "code",
   "execution_count": 79,
   "metadata": {},
   "outputs": [],
   "source": [
    "#Calculated percentage of made 2p jumpshots that were assisted\n",
    "temp_df = Twos_df[(Twos_df['Jumpshot']==True)&(Twos_df['Result']==1)].groupby(\n",
    "    ['player_id','game_id'])['Assisted'].sum().reset_index().rename(columns={'Assisted': 'Jumpshots assisted on'})"
   ]
  },
  {
   "cell_type": "code",
   "execution_count": 80,
   "metadata": {},
   "outputs": [],
   "source": [
    "two_pointers_df = pd.merge(two_pointers_df, temp_df, how= 'left', on=['player_id','game_id']).fillna(0)"
   ]
  },
  {
   "cell_type": "code",
   "execution_count": 81,
   "metadata": {},
   "outputs": [],
   "source": [
    "#2P% per zone for each player\n",
    "Zones2 = Twos_df.groupby(['player_id','game_id','Zone']).Result.agg(['sum','count']).reset_index()"
   ]
  },
  {
   "cell_type": "code",
   "execution_count": 82,
   "metadata": {},
   "outputs": [],
   "source": [
    "#Pivot on Zone column before merging with the features dataframe\n",
    "pivot_zones = Zones2.pivot(index=['player_id','game_id'], columns='Zone')[['sum','count']].reset_index().rename(\n",
    "    columns={'sum':'made','count':'attempted'})\n",
    "pivot_zones.columns = pivot_zones.columns.map(lambda x: f'{x[1]} {x[0]}')#merge the two index level names\n",
    "pivot_zones.columns = pivot_zones.columns.map(lambda x: x[1:])#remove leading space"
   ]
  },
  {
   "cell_type": "code",
   "execution_count": 83,
   "metadata": {},
   "outputs": [],
   "source": [
    "two_pointers_df = pd.merge(two_pointers_df, pivot_zones, how= 'left', on=['player_id','game_id']).fillna(0)"
   ]
  },
  {
   "cell_type": "code",
   "execution_count": 84,
   "metadata": {},
   "outputs": [],
   "source": [
    "#Create a new dataframe for the last 1, 3, 5, 10 games, plus the season total\n",
    "#Use the rolling function to compute the last x games sums, NOT INCLUDING the game in each row (closed='left')\n",
    "Last_game_2P = two_pointers_df.sort_values(['team_id','player_id','games played since'], ascending=False).groupby(\n",
    "    ['team_id','player_id'],as_index=False)[two_pointers_df.columns[4:].to_list()].rolling(closed='left',window=1).sum()\n",
    "Last_3_games_2P = two_pointers_df.sort_values(['team_id','player_id','games played since'], ascending=False).groupby(\n",
    "    ['team_id','player_id'],as_index=False)[two_pointers_df.columns[4:].to_list()].rolling(closed='left',window=3).sum()\n",
    "Last_5_games_2P = two_pointers_df.sort_values(['team_id','player_id','games played since'], ascending=False).groupby(\n",
    "    ['team_id','player_id'],as_index=False)[two_pointers_df.columns[4:].to_list()].rolling(closed='left',window=5).sum()\n",
    "Last_10_games_2P = two_pointers_df.sort_values(['team_id','player_id','games played since'], ascending=False).groupby(\n",
    "    ['team_id','player_id'],as_index=False)[two_pointers_df.columns[4:].to_list()].rolling(closed='left',window=10).sum()\n",
    "Season_2P = two_pointers_df.sort_values(['team_id','player_id','games played since'], ascending=False).groupby(\n",
    "    ['team_id','player_id'],as_index=False)[two_pointers_df.columns[4:].to_list()].rolling(\n",
    "        closed='left',window=most_team_games, min_periods=1).sum()"
   ]
  },
  {
   "cell_type": "code",
   "execution_count": 85,
   "metadata": {},
   "outputs": [],
   "source": [
    "#For each dataframe and each shot/zone type compute the respective percentages\n",
    "for df in [Last_game_2P, Last_3_games_2P, Last_5_games_2P, Last_10_games_2P, Season_2P]:\n",
    "    df.insert(5, '2P%', df['2PM']/df['2PA'])\n",
    "    df.insert(8, 'Dunk FG%', df['Dunks made']/df['Dunks attempted'])\n",
    "    df.insert(11, 'Layup FG%', df['Layups made']/df['Layups attempted'])\n",
    "    df.insert(14, 'Floater FG%', df['Floaters made']/df['Floaters attempted'])\n",
    "    df.insert(17, 'Hook Shot FG%', df['Hook Shots made']/df['Hook Shots attempted'])\n",
    "    df.insert(20, 'Jumpshot FG%', df['Jumpshots made']/df['Jumpshots attempted'])\n",
    "    df.insert(23, 'Pullup FG%', df['Pullups made']/df['Pullups attempted'])\n",
    "    df.insert(26, 'Turnaround FG%', df['Turnarounds made']/df['Turnarounds attempted'])\n",
    "    df.insert(29, 'Step Back FG%', df['Step Backs made']/df['Step Backs attempted'])\n",
    "    df.insert(31, 'Jumpshots assisted%', df['Jumpshots assisted on']/df['2PM'])\n",
    "    df['zone 1 FG%'] = df['1 made']/df['1 attempted']\n",
    "    df['zone 2-1 FG%'] = df['2-1 made']/df['2-1 attempted']\n",
    "    df['zone 2-2 FG%'] = df['2-2 made']/df['2-2 attempted']\n",
    "    df['zone 2-3 FG%'] = df['2-3 made']/df['2-3 attempted']\n",
    "    df['zone 3-1 FG%'] = df['3-1 made']/df['3-1 attempted']\n",
    "    df['zone 3-2 FG%'] = df['3-2 made']/df['3-2 attempted']\n",
    "    df['zone 3-3 FG%'] = df['3-3 made']/df['3-3 attempted']\n",
    "    df['zone 4-1 FG%'] = df['4-1 made']/df['4-1 attempted']\n",
    "    df['zone 4-2 FG%'] = df['4-2 made']/df['4-2 attempted']\n",
    "    df['zone 4-3 FG%'] = df['4-3 made']/df['4-3 attempted']"
   ]
  },
  {
   "cell_type": "code",
   "execution_count": 86,
   "metadata": {},
   "outputs": [],
   "source": [
    "#For each dataframe and each shot/zone type normalize the respective makes and attempts\n",
    "for df in [Last_game_2P, Last_3_games_2P, Last_5_games_2P, Last_10_games_2P, Season_2P]:\n",
    "    df['2PM'] = np.where(df.played.isna()==True, df['2PM'], df['2PM']/df.played)\n",
    "    df['2PA'] = np.where(df.played.isna()==True, df['2PA'], df['2PA']/df.played)\n",
    "    df['Dunks made'] = np.where(df.played.isna()==True, df['Dunks made'], df['Dunks made']/df.played)\n",
    "    df['Dunks attempted'] = np.where(df.played.isna()==True, df['Dunks attempted'], df['Dunks attempted']/df.played)\n",
    "    df['Layups made'] = np.where(df.played.isna()==True, df['Layups made'], df['Layups made']/df.played)\n",
    "    df['Layups attempted'] = np.where(df.played.isna()==True, df['Layups attempted'], df['Layups attempted']/df.played)\n",
    "    df['Floaters made'] = np.where(df.played.isna()==True, df['Floaters made'], df['Floaters made']/df.played)\n",
    "    df['Floaters attempted'] = np.where(df.played.isna()==True, df['Floaters attempted'], df['Floaters attempted']/df.played)\n",
    "    df['Hook Shots made'] = np.where(df.played.isna()==True, df['Hook Shots made'], df['Hook Shots made']/df.played)\n",
    "    df['Hook Shots attempted'] = np.where(df.played.isna()==True, df['Hook Shots attempted'], df['Hook Shots attempted']/df.played)\n",
    "    df['Jumpshots made'] = np.where(df.played.isna()==True, df['Jumpshots made'], df['Jumpshots made']/df.played)\n",
    "    df['Jumpshots attempted'] = np.where(df.played.isna()==True, df['Jumpshots attempted'], df['Jumpshots attempted']/df.played)\n",
    "    df['Pullups made'] = np.where(df.played.isna()==True, df['Pullups made'], df['Pullups made']/df.played)\n",
    "    df['Pullups attempted'] = np.where(df.played.isna()==True, df['Pullups attempted'], df['Pullups attempted']/df.played)\n",
    "    df['Turnarounds made'] = np.where(df.played.isna()==True, df['Turnarounds made'], df['Turnarounds made']/df.played)\n",
    "    df['Turnarounds attempted'] = np.where(df.played.isna()==True, df['Turnarounds attempted'], df['Turnarounds attempted']/df.played)\n",
    "    df['Step Backs made'] = np.where(df.played.isna()==True, df['Step Backs made'], df['Step Backs made']/df.played)\n",
    "    df['Step Backs attempted'] = np.where(df.played.isna()==True, df['Step Backs attempted'], df['Step Backs attempted']/df.played)\n",
    "    df['1 made'] = np.where(df.played.isna()==True, df['1 made'], df['1 made']/df.played)\n",
    "    df['1 attempted'] = np.where(df.played.isna()==True, df['1 attempted'], df['1 attempted']/df.played)\n",
    "    df['2-1 made'] = np.where(df.played.isna()==True, df['2-1 made'], df['2-1 made']/df.played)\n",
    "    df['2-1 attempted'] = np.where(df.played.isna()==True, df['2-1 attempted'], df['2-1 attempted']/df.played)\n",
    "    df['2-2 made'] = np.where(df.played.isna()==True, df['2-2 made'], df['2-2 made']/df.played)\n",
    "    df['2-2 attempted'] = np.where(df.played.isna()==True, df['2-2 attempted'], df['2-2 attempted']/df.played)\n",
    "    df['2-3 made'] = np.where(df.played.isna()==True, df['2-3 made'], df['2-3 made']/df.played)\n",
    "    df['2-3 attempted'] = np.where(df.played.isna()==True, df['2-3 attempted'], df['2-3 attempted']/df.played)\n",
    "    df['3-1 made'] = np.where(df.played.isna()==True, df['3-1 made'], df['3-1 made']/df.played)\n",
    "    df['3-1 attempted'] = np.where(df.played.isna()==True, df['3-1 attempted'], df['3-1 attempted']/df.played)\n",
    "    df['3-2 made'] = np.where(df.played.isna()==True, df['3-2 made'], df['3-2 made']/df.played)\n",
    "    df['3-2 attempted'] = np.where(df.played.isna()==True, df['3-2 attempted'], df['3-2 attempted']/df.played)\n",
    "    df['3-3 made'] = np.where(df.played.isna()==True, df['3-3 made'], df['3-3 made']/df.played)\n",
    "    df['3-3 attempted'] = np.where(df.played.isna()==True, df['3-3 attempted'], df['3-3 attempted']/df.played)\n",
    "    df['4-1 made'] = np.where(df.played.isna()==True, df['4-1 made'], df['4-1 made']/df.played)\n",
    "    df['4-1 attempted'] = np.where(df.played.isna()==True, df['4-1 attempted'], df['4-1 attempted']/df.played)\n",
    "    df['4-2 made'] = np.where(df.played.isna()==True, df['4-2 made'], df['4-2 made']/df.played)\n",
    "    df['4-2 attempted'] = np.where(df.played.isna()==True, df['4-2 attempted'], df['4-2 attempted']/df.played)\n",
    "    df['4-3 made'] = np.where(df.played.isna()==True, df['4-3 made'], df['4-3 made']/df.played)\n",
    "    df['4-3 attempted'] = np.where(df.played.isna()==True, df['4-3 attempted'], df['4-3 attempted']/df.played)"
   ]
  },
  {
   "cell_type": "code",
   "execution_count": 87,
   "metadata": {},
   "outputs": [],
   "source": [
    "#Rename the columns before merging all the dataframes together\n",
    "Last_game_2P.columns = Last_game_2P.columns.map(lambda x: f'L1 {x}')\n",
    "Last_3_games_2P.columns = Last_3_games_2P.columns.map(lambda x: f'L3 {x}')\n",
    "Last_5_games_2P.columns = Last_5_games_2P.columns.map(lambda x: f'L5 {x}')\n",
    "Last_10_games_2P.columns = Last_10_games_2P.columns.map(lambda x: f'L10 {x}')\n",
    "Season_2P.columns = Season_2P.columns.map(lambda x: f'TOT {x}')\n",
    "Last_game_2P = Last_game_2P.rename(columns={'L1 team_id':'team_id','L1 player_id':'player_id'})\n",
    "Last_3_games_2P = Last_3_games_2P.rename(columns={'L3 team_id':'team_id','L3 player_id':'player_id'})\n",
    "Last_5_games_2P = Last_5_games_2P.rename(columns={'L5 team_id':'team_id','L5 player_id':'player_id'})\n",
    "Last_10_games_2P = Last_10_games_2P.rename(columns={'L10 team_id':'team_id','L10 player_id':'player_id'})\n",
    "Season_2P = Season_2P.rename(columns={'TOT team_id':'team_id','TOT player_id':'player_id'})"
   ]
  },
  {
   "cell_type": "code",
   "execution_count": 88,
   "metadata": {},
   "outputs": [],
   "source": [
    "#Concatenate all the dataframes into one\n",
    "feature_df_2P = pd.concat([team_player_game_df, Last_game_2P.iloc[:,2:], \n",
    "                           Last_3_games_2P.iloc[:,2:], Last_5_games_2P.iloc[:,2:], \n",
    "                           Last_10_games_2P.iloc[:,2:], Season_2P.iloc[:,2:]], axis=1)\n",
    "# feature_df_2P.to_pickle(\"2P_features_df.pickle\")#write the data to a pickle file\n",
    "# feature_df_2P\n",
    "#Now that current season's features are created, we will merge them with last season's features\n"
   ]
  },
  {
   "cell_type": "code",
   "execution_count": 89,
   "metadata": {},
   "outputs": [],
   "source": [
    "reduced_2P_df = pd.merge(Twos_df, feature_df_2P, how='left', on=['team_id','player_id','game_id'])\n",
    "reduced_2P_df = pd.merge(reduced_2P_df, Last_season_2P_features_df, how='left', on=['player_id'])"
   ]
  },
  {
   "cell_type": "code",
   "execution_count": 90,
   "metadata": {},
   "outputs": [],
   "source": [
    "NAs2 = reduced_2P_df.isna().sum()/reduced_2P_df.shape[0]"
   ]
  },
  {
   "cell_type": "code",
   "execution_count": 91,
   "metadata": {},
   "outputs": [
    {
     "data": {
      "text/plain": [
       "L1 2PM             0.103271\n",
       "L3 2PM             0.141591\n",
       "L5 2PM             0.200342\n",
       "L10 2PM            0.352652\n",
       "TOT 2PM            0.074270\n",
       "Last_season 2PM    0.257877\n",
       "dtype: float64"
      ]
     },
     "execution_count": 91,
     "metadata": {},
     "output_type": "execute_result"
    }
   ],
   "source": [
    "NAs2[42::60]"
   ]
  },
  {
   "cell_type": "code",
   "execution_count": 92,
   "metadata": {},
   "outputs": [],
   "source": [
    "reduced_2P_df.insert(41, 'Last_season Zone perc%', np.nan)\n",
    "reduced_2P_df.insert(41, 'Last_season Zone attempted', 0)\n",
    "reduced_2P_df.insert(41, 'Last_season Zone made', 0)\n",
    "reduced_2P_df.insert(41, 'TOT Zone perc%', np.nan)\n",
    "reduced_2P_df.insert(41, 'TOT Zone attempted', 0)\n",
    "reduced_2P_df.insert(41, 'TOT Zone made', 0)\n",
    "reduced_2P_df.insert(41, 'L10 Zone perc%', np.nan)\n",
    "reduced_2P_df.insert(41, 'L10 Zone attempted', 0)\n",
    "reduced_2P_df.insert(41, 'L10 Zone made', 0)\n",
    "reduced_2P_df.insert(41, 'L5 Zone attempted', 0)\n",
    "reduced_2P_df.insert(41, 'L5 Zone perc%', np.nan)\n",
    "reduced_2P_df.insert(41, 'L5 Zone made', 0)\n",
    "reduced_2P_df.insert(41, 'L3 Zone perc%', np.nan)\n",
    "reduced_2P_df.insert(41, 'L3 Zone attempted', 0)\n",
    "reduced_2P_df.insert(41, 'L3 Zone made', 0)\n",
    "reduced_2P_df.insert(41, 'L1 Zone perc%', np.nan)\n",
    "reduced_2P_df.insert(41, 'L1 Zone attempted', 0)\n",
    "reduced_2P_df.insert(41, 'L1 Zone made', 0)"
   ]
  },
  {
   "cell_type": "code",
   "execution_count": 93,
   "metadata": {},
   "outputs": [],
   "source": [
    "cols_to_drop = list()\n",
    "\n",
    "for time in ['L1','L3','L5','L10','TOT','Last_season']:\n",
    "    for zone in [' 1',' 2-1',' 2-2',' 2-3',' 3-1',' 3-2',' 3-3',' 4-1',' 4-2',' 4-3']:\n",
    "        reduced_2P_df[f\"{time} Zone made\"] = np.where(reduced_2P_df.Zone==zone, reduced_2P_df[f\"{time}{zone} made\"], reduced_2P_df[f\"{time} Zone made\"])\n",
    "        cols_to_drop.append(f\"{time}{zone} made\")\n",
    "        reduced_2P_df[f\"{time} Zone attempted\"] = np.where(reduced_2P_df.Zone==zone, reduced_2P_df[f\"{time}{zone} attempted\"], reduced_2P_df[f\"{time} Zone attempted\"])\n",
    "        cols_to_drop.append(f\"{time}{zone} attempted\")\n",
    "        reduced_2P_df[f\"{time} Zone perc%\"] = np.where(reduced_2P_df.Zone==zone, reduced_2P_df[f\"{time} zone{zone} FG%\"], reduced_2P_df[f\"{time} Zone perc%\"])\n",
    "        cols_to_drop.append(f\"{time} zone{zone} FG%\")\n",
    "            "
   ]
  },
  {
   "cell_type": "code",
   "execution_count": 94,
   "metadata": {},
   "outputs": [],
   "source": [
    "reduced_2P_df = reduced_2P_df.drop(columns=cols_to_drop)"
   ]
  },
  {
   "cell_type": "code",
   "execution_count": 95,
   "metadata": {},
   "outputs": [],
   "source": [
    "reduced_2P_df.insert(56, 'Shot type', 'Other')\n",
    "reduced_2P_df['Shot type'] = np.where(reduced_2P_df.Jumpshot==True, 'Jumpshot', reduced_2P_df['Shot type'])\n",
    "reduced_2P_df['Shot type'] = np.where(reduced_2P_df.Pullup==True, 'Pullup', reduced_2P_df['Shot type'])\n",
    "reduced_2P_df['Shot type'] = np.where(reduced_2P_df['Step Back']==True, 'Step Back', reduced_2P_df['Shot type'])\n",
    "reduced_2P_df['Shot type'] = np.where(reduced_2P_df.Floater==True, 'Floater', reduced_2P_df['Shot type'])\n",
    "reduced_2P_df['Shot type'] = np.where(reduced_2P_df.Layup==True, 'Layup', reduced_2P_df['Shot type'])\n",
    "reduced_2P_df['Shot type'] = np.where(reduced_2P_df['Hook Shot']==True, 'Hook Shot', reduced_2P_df['Shot type'])\n",
    "reduced_2P_df['Shot type'] = np.where(reduced_2P_df.Dunk==True, 'Dunk', reduced_2P_df['Shot type'])\n",
    "reduced_2P_df['Shot type'] = np.where(reduced_2P_df.Turnaround==True, 'Turnaround', reduced_2P_df['Shot type'])\n"
   ]
  },
  {
   "cell_type": "code",
   "execution_count": 96,
   "metadata": {},
   "outputs": [
    {
     "data": {
      "text/plain": [
       "Shot type\n",
       "Layup         257018\n",
       "Jumpshot      139472\n",
       "Pullup         21943\n",
       "Turnaround     10990\n",
       "Floater         9224\n",
       "Hook Shot       5936\n",
       "Step Back       3011\n",
       "Other             58\n",
       "Dunk              53\n",
       "Name: count, dtype: int64"
      ]
     },
     "execution_count": 96,
     "metadata": {},
     "output_type": "execute_result"
    }
   ],
   "source": [
    "reduced_2P_df['Shot type'].value_counts()"
   ]
  },
  {
   "cell_type": "code",
   "execution_count": 97,
   "metadata": {},
   "outputs": [],
   "source": [
    "reduced_2P_df.insert(57, 'Last_season Shot type perc%', np.nan)\n",
    "reduced_2P_df.insert(57, 'Last_season Shot type attempted', 0)\n",
    "reduced_2P_df.insert(57, 'Last_season Shot type made', 0)\n",
    "reduced_2P_df.insert(57, 'TOT Shot type perc%', np.nan)\n",
    "reduced_2P_df.insert(57, 'TOT Shot type attempted', 0)\n",
    "reduced_2P_df.insert(57, 'TOT Shot type made', 0)\n",
    "reduced_2P_df.insert(57, 'L10 Shot type perc%', np.nan)\n",
    "reduced_2P_df.insert(57, 'L10 Shot type attempted', 0)\n",
    "reduced_2P_df.insert(57, 'L10 Shot type made', 0)\n",
    "reduced_2P_df.insert(57, 'L5 Shot type perc%', np.nan)\n",
    "reduced_2P_df.insert(57, 'L5 Shot type attempted', 0)\n",
    "reduced_2P_df.insert(57, 'L5 Shot type made', 0)\n",
    "reduced_2P_df.insert(57, 'L3 Shot type perc%', np.nan)\n",
    "reduced_2P_df.insert(57, 'L3 Shot type attempted', 0)\n",
    "reduced_2P_df.insert(57, 'L3 Shot type made', 0)\n",
    "reduced_2P_df.insert(57, 'L1 Shot type perc%', np.nan)\n",
    "reduced_2P_df.insert(57, 'L1 Shot type attempted', 0)\n",
    "reduced_2P_df.insert(57, 'L1 Shot type made', 0)"
   ]
  },
  {
   "cell_type": "code",
   "execution_count": 98,
   "metadata": {},
   "outputs": [],
   "source": [
    "cols_to_drop = list()\n",
    "\n",
    "for time in ['L1','L3','L5','L10','TOT','Last_season']:\n",
    "    for shot_type in ['Dunk','Hook Shot','Layup','Floater','Jumpshot','Pullup','Turnaround','Step Back']:\n",
    "        reduced_2P_df[f\"{time} Shot type made\"] = np.where(reduced_2P_df['Shot type']==shot_type, reduced_2P_df[f\"{time} {shot_type}s made\"], reduced_2P_df[f\"{time} Shot type made\"])\n",
    "        cols_to_drop.append(f\"{time} {shot_type}s made\")\n",
    "        reduced_2P_df[f\"{time} Shot type attempted\"] = np.where(reduced_2P_df['Shot type']==shot_type, reduced_2P_df[f\"{time} {shot_type}s attempted\"], reduced_2P_df[f\"{time} Shot type attempted\"])\n",
    "        cols_to_drop.append(f\"{time} {shot_type}s attempted\")\n",
    "        reduced_2P_df[f\"{time} Shot type perc%\"] = np.where(reduced_2P_df['Shot type']==shot_type, reduced_2P_df[f\"{time} {shot_type} FG%\"], reduced_2P_df[f\"{time} Shot type perc%\"])\n",
    "        cols_to_drop.append(f\"{time} {shot_type} FG%\")\n"
   ]
  },
  {
   "cell_type": "code",
   "execution_count": 99,
   "metadata": {},
   "outputs": [],
   "source": [
    "reduced_2P_df = reduced_2P_df.drop(columns=cols_to_drop)"
   ]
  },
  {
   "cell_type": "code",
   "execution_count": 100,
   "metadata": {},
   "outputs": [],
   "source": [
    "condensed_per_game_2P_features = list(range(-73,0))\n",
    "condensed_per_game_2P_features.insert(0,38)\n",
    "condensed_per_game_2P_features.insert(0,4)"
   ]
  },
  {
   "cell_type": "code",
   "execution_count": 101,
   "metadata": {},
   "outputs": [],
   "source": [
    "Condensed_2P_features_df = reduced_2P_df.iloc[:,condensed_per_game_2P_features]\n",
    "# .to_pickle(\"Condensed_2P_features_df.pickle\")\n",
    "# reduced_2P_df.iloc[:,condensed_per_game_2P_features]"
   ]
  },
  {
   "cell_type": "markdown",
   "metadata": {},
   "source": [
    "Feature creation for 3 pointers"
   ]
  },
  {
   "cell_type": "code",
   "execution_count": 102,
   "metadata": {},
   "outputs": [],
   "source": [
    "#Filter on 3 point shots\n",
    "Threes_df = shots_df[shots_df.Type=='Three']\n",
    "three_pointers_df = Threes_df.groupby(['player_id','game_id']).Result.agg(\n",
    "    ['sum','count']).reset_index().rename(columns={'sum':'3PM', 'count':'3PA'})"
   ]
  },
  {
   "cell_type": "code",
   "execution_count": 103,
   "metadata": {},
   "outputs": [],
   "source": [
    "#merge with the dataframe containing the team_id, game_id, player_id combinations\n",
    "three_pointers_df = pd.merge(team_player_game_df, three_pointers_df, how= 'left', on=['player_id','game_id']).fillna(0)"
   ]
  },
  {
   "cell_type": "code",
   "execution_count": 104,
   "metadata": {},
   "outputs": [],
   "source": [
    "#Create made and attempted game totals for each of the following shot types\n",
    "for stat in ['Jumpshot', 'Pullup', 'Step Back']:\n",
    "    temp = Threes_df[Threes_df[stat]==True]\n",
    "    temp_df = temp.groupby(['player_id','game_id']).Result.agg(\n",
    "        ['sum','count']).reset_index().rename(columns={'sum': '3P '+stat+'s made', 'count': '3P '+stat+'s attempted'})\n",
    "    three_pointers_df = pd.merge(three_pointers_df, temp_df, how= 'left', on=['player_id','game_id']).fillna(0)"
   ]
  },
  {
   "cell_type": "code",
   "execution_count": 105,
   "metadata": {},
   "outputs": [],
   "source": [
    "#Calculated percentage of made 3p jumpshots that were assisted\n",
    "temp_df = Threes_df[(Threes_df['Jumpshot']==True)&(Threes_df['Result']==1)].groupby(\n",
    "    ['player_id','game_id'])['Assisted'].sum().reset_index().rename(columns={'Assisted': '3P Jumpshots assisted on'})"
   ]
  },
  {
   "cell_type": "code",
   "execution_count": 106,
   "metadata": {},
   "outputs": [],
   "source": [
    "three_pointers_df = pd.merge(three_pointers_df, temp_df, how= 'left', on=['player_id','game_id']).fillna(0)"
   ]
  },
  {
   "cell_type": "code",
   "execution_count": 107,
   "metadata": {},
   "outputs": [],
   "source": [
    "#3P% per zone for each player\n",
    "Zones3 = Threes_df.groupby(['player_id','game_id','Zone']).Result.agg(['sum','count']).reset_index()"
   ]
  },
  {
   "cell_type": "code",
   "execution_count": 108,
   "metadata": {},
   "outputs": [],
   "source": [
    "#Pivot on Zone column before merging with the features dataframe\n",
    "pivot_zones = Zones3.pivot(index=['player_id','game_id'], columns='Zone')[['sum','count']].reset_index().rename(\n",
    "    columns={'sum':'made','count':'attempted'})\n",
    "pivot_zones.columns = pivot_zones.columns.map(lambda x: f'{x[1]} {x[0]}')#merge the two index level names\n",
    "pivot_zones.columns = pivot_zones.columns.map(lambda x: x[1:])##remove leading space"
   ]
  },
  {
   "cell_type": "code",
   "execution_count": 109,
   "metadata": {},
   "outputs": [],
   "source": [
    "three_pointers_df = pd.merge(three_pointers_df, pivot_zones, how= 'left', on=['player_id','game_id']).fillna(0)"
   ]
  },
  {
   "cell_type": "code",
   "execution_count": 110,
   "metadata": {},
   "outputs": [],
   "source": [
    "#Create a new dataframe for the last 1, 3, 5, 10 games, plus the season total\n",
    "#Use the rolling function to compute the last x games sums, NOT INCLUDING the game in each row (closed='left')\n",
    "Last_game_3P = three_pointers_df.sort_values(['team_id','player_id','games played since'], ascending=False).groupby(\n",
    "    ['team_id','player_id'],as_index=False)[three_pointers_df.columns[4:].to_list()].rolling(closed='left',window=1).sum()\n",
    "Last_3_games_3P = three_pointers_df.sort_values(['team_id','player_id','games played since'], ascending=False).groupby(\n",
    "    ['team_id','player_id'],as_index=False)[three_pointers_df.columns[4:].to_list()].rolling(closed='left',window=3).sum()\n",
    "Last_5_games_3P = three_pointers_df.sort_values(['team_id','player_id','games played since'], ascending=False).groupby(\n",
    "    ['team_id','player_id'],as_index=False)[three_pointers_df.columns[4:].to_list()].rolling(closed='left',window=5).sum()\n",
    "Last_10_games_3P = three_pointers_df.sort_values(['team_id','player_id','games played since'], ascending=False).groupby(\n",
    "    ['team_id','player_id'],as_index=False)[three_pointers_df.columns[4:].to_list()].rolling(closed='left',window=10).sum()\n",
    "Season_3P = three_pointers_df.sort_values(['team_id','player_id','games played since'], ascending=False).groupby(\n",
    "    ['team_id','player_id'],as_index=False)[three_pointers_df.columns[4:].to_list()].rolling(\n",
    "        closed='left',window=most_team_games, min_periods=1).sum()"
   ]
  },
  {
   "cell_type": "code",
   "execution_count": 111,
   "metadata": {},
   "outputs": [],
   "source": [
    "#For each dataframe and each shot/zone type compute the respective percentages\n",
    "for df in [Last_game_3P, Last_3_games_3P, Last_5_games_3P, Last_10_games_3P, Season_3P]:\n",
    "    df.insert(5, '3P%', df['3PM']/df['3PA'])\n",
    "    df.insert(8, 'Jumpshots 3P%', df['3P Jumpshots made']/df['3P Jumpshots attempted'])\n",
    "    df.insert(11, 'Pullups 3P%', df['3P Pullups made']/df['3P Pullups attempted'])\n",
    "    df.insert(14, 'Step Backs 3P%', df['3P Step Backs made']/df['3P Step Backs attempted'])\n",
    "    df.insert(16, '3P Jumpshots assisted%', df['3P Jumpshots assisted on']/df['3PM'])\n",
    "    df['zone 5-1 FG%'] = df['5-1 made']/df['5-1 attempted']\n",
    "    df['zone 5-2 FG%'] = df['5-2 made']/df['5-2 attempted']\n",
    "    df['zone 6-1 FG%'] = df['6-1 made']/df['6-1 attempted']\n",
    "    df['zone 6-2 FG%'] = df['6-2 made']/df['6-2 attempted']\n",
    "    df['zone 6-3 FG%'] = df['6-3 made']/df['6-3 attempted']\n",
    "    df['zone 7-1 FG%'] = df['7-1 made']/df['7-1 attempted']\n",
    "    df['zone 7-2 FG%'] = df['7-2 made']/df['7-2 attempted']\n",
    "    df['zone 7-3 FG%'] = df['7-3 made']/df['7-3 attempted']"
   ]
  },
  {
   "cell_type": "code",
   "execution_count": 112,
   "metadata": {},
   "outputs": [],
   "source": [
    "#For each dataframe and each shot/zone type normalize the respective makes and attempts\n",
    "for df in [Last_game_3P, Last_3_games_3P, Last_5_games_3P, Last_10_games_3P, Season_3P]:\n",
    "    df['3PM'] = np.where(df.played.isna()==True, df['3PM'], df['3PM']/df.played)\n",
    "    df['3PA'] = np.where(df.played.isna()==True, df['3PA'], df['3PA']/df.played)\n",
    "    df['3P Jumpshots made'] = np.where(df.played.isna()==True, df['3P Jumpshots made'], df['3P Jumpshots made']/df.played)\n",
    "    df['3P Jumpshots attempted'] = np.where(df.played.isna()==True, df['3P Jumpshots attempted'], df['3P Jumpshots attempted']/df.played)\n",
    "    df['3P Pullups made'] = np.where(df.played.isna()==True, df['3P Pullups made'], df['3P Pullups made']/df.played)\n",
    "    df['3P Pullups attempted'] = np.where(df.played.isna()==True, df['3P Pullups attempted'], df['3P Pullups attempted']/df.played)\n",
    "    df['3P Step Backs made'] = np.where(df.played.isna()==True, df['3P Step Backs made'], df['3P Step Backs made']/df.played)\n",
    "    df['3P Step Backs attempted'] = np.where(df.played.isna()==True, df['3P Step Backs attempted'], df['3P Step Backs attempted']/df.played)\n",
    "    df['5-1 made'] = np.where(df.played.isna()==True, df['5-1 made'], df['5-1 made']/df.played)\n",
    "    df['5-1 attempted'] = np.where(df.played.isna()==True, df['5-1 attempted'], df['5-1 attempted']/df.played)\n",
    "    df['5-2 made'] = np.where(df.played.isna()==True, df['5-2 made'], df['5-2 made']/df.played)\n",
    "    df['5-2 attempted'] = np.where(df.played.isna()==True, df['5-2 attempted'], df['5-2 attempted']/df.played)\n",
    "    df['6-1 made'] = np.where(df.played.isna()==True, df['6-1 made'], df['6-1 made']/df.played)\n",
    "    df['6-1 attempted'] = np.where(df.played.isna()==True, df['6-1 attempted'], df['6-1 attempted']/df.played)\n",
    "    df['6-2 made'] = np.where(df.played.isna()==True, df['6-2 made'], df['6-2 made']/df.played)\n",
    "    df['6-2 attempted'] = np.where(df.played.isna()==True, df['6-2 attempted'], df['6-2 attempted']/df.played)\n",
    "    df['6-3 made'] = np.where(df.played.isna()==True, df['6-3 made'], df['6-3 made']/df.played)\n",
    "    df['6-3 attempted'] = np.where(df.played.isna()==True, df['6-3 attempted'], df['6-3 attempted']/df.played)\n",
    "    df['7-1 made'] = np.where(df.played.isna()==True, df['7-1 made'], df['7-1 made']/df.played)\n",
    "    df['7-1 attempted'] = np.where(df.played.isna()==True, df['7-1 attempted'], df['7-1 attempted']/df.played)\n",
    "    df['7-2 made'] = np.where(df.played.isna()==True, df['7-2 made'], df['7-2 made']/df.played)\n",
    "    df['7-2 attempted'] = np.where(df.played.isna()==True, df['7-2 attempted'], df['7-2 attempted']/df.played)\n",
    "    df['7-3 made'] = np.where(df.played.isna()==True, df['7-3 made'], df['7-3 made']/df.played)\n",
    "    df['7-3 attempted'] = np.where(df.played.isna()==True, df['7-3 attempted'], df['7-3 attempted']/df.played)"
   ]
  },
  {
   "cell_type": "code",
   "execution_count": 113,
   "metadata": {},
   "outputs": [],
   "source": [
    "#Rename the columns before merging all the dataframes together\n",
    "Last_game_3P.columns = Last_game_3P.columns.map(lambda x: f'L1 {x}')\n",
    "Last_3_games_3P.columns = Last_3_games_3P.columns.map(lambda x: f'L3 {x}')\n",
    "Last_5_games_3P.columns = Last_5_games_3P.columns.map(lambda x: f'L5 {x}')\n",
    "Last_10_games_3P.columns = Last_10_games_3P.columns.map(lambda x: f'L10 {x}')\n",
    "Season_3P.columns = Season_3P.columns.map(lambda x: f'TOT {x}')\n",
    "Last_game_3P = Last_game_3P.rename(columns={'L1 team_id':'team_id','L1 player_id':'player_id'})\n",
    "Last_3_games_3P = Last_3_games_3P.rename(columns={'L3 team_id':'team_id','L3 player_id':'player_id'})\n",
    "Last_5_games_3P = Last_5_games_3P.rename(columns={'L5 team_id':'team_id','L5 player_id':'player_id'})\n",
    "Last_10_games_3P = Last_10_games_3P.rename(columns={'L10 team_id':'team_id','L10 player_id':'player_id'})\n",
    "Season_3P = Season_3P.rename(columns={'TOT team_id':'team_id','TOT player_id':'player_id'})"
   ]
  },
  {
   "cell_type": "code",
   "execution_count": 114,
   "metadata": {},
   "outputs": [],
   "source": [
    "#Concatenate all the dataframes into one\n",
    "feature_df_3P = pd.concat([team_player_game_df, Last_game_3P.iloc[:,2:], \n",
    "                           Last_3_games_3P.iloc[:,2:], Last_5_games_3P.iloc[:,2:], \n",
    "                           Last_10_games_3P.iloc[:,2:], Season_3P.iloc[:,2:]], axis=1)\n",
    "# feature_df_3P.to_pickle(\"3P_features_df.pickle\")#write the data to a pickle file\n",
    "#Now that current season's features are created, we will merge them with last season's features\n"
   ]
  },
  {
   "cell_type": "code",
   "execution_count": 115,
   "metadata": {},
   "outputs": [],
   "source": [
    "reduced_3P_df = pd.merge(Threes_df, feature_df_3P, how='left', on=['team_id','player_id','game_id'])\n",
    "reduced_3P_df = pd.merge(reduced_3P_df, Last_season_3P_features_df, how='left', on=['player_id'])"
   ]
  },
  {
   "cell_type": "code",
   "execution_count": 116,
   "metadata": {},
   "outputs": [],
   "source": [
    "NAs3 = reduced_3P_df.isna().sum()/reduced_3P_df.shape[0]"
   ]
  },
  {
   "cell_type": "code",
   "execution_count": 117,
   "metadata": {},
   "outputs": [],
   "source": [
    "reduced_3P_df.insert(41, 'Last_season Zone perc%', np.nan)\n",
    "reduced_3P_df.insert(41, 'Last_season Zone attempted', 0)\n",
    "reduced_3P_df.insert(41, 'Last_season Zone made', 0)\n",
    "reduced_3P_df.insert(41, 'TOT Zone perc%', np.nan)\n",
    "reduced_3P_df.insert(41, 'TOT Zone attempted', 0)\n",
    "reduced_3P_df.insert(41, 'TOT Zone made', 0)\n",
    "reduced_3P_df.insert(41, 'L10 Zone perc%', np.nan)\n",
    "reduced_3P_df.insert(41, 'L10 Zone attempted', 0)\n",
    "reduced_3P_df.insert(41, 'L10 Zone made', 0)\n",
    "reduced_3P_df.insert(41, 'L5 Zone perc%', np.nan)\n",
    "reduced_3P_df.insert(41, 'L5 Zone attempted', 0)\n",
    "reduced_3P_df.insert(41, 'L5 Zone made', 0)\n",
    "reduced_3P_df.insert(41, 'L3 Zone perc%', np.nan)\n",
    "reduced_3P_df.insert(41, 'L3 Zone attempted', 0)\n",
    "reduced_3P_df.insert(41, 'L3 Zone made', 0)\n",
    "reduced_3P_df.insert(41, 'L1 Zone perc%', np.nan)\n",
    "reduced_3P_df.insert(41, 'L1 Zone attempted', 0)\n",
    "reduced_3P_df.insert(41, 'L1 Zone made', 0)\n"
   ]
  },
  {
   "cell_type": "code",
   "execution_count": 118,
   "metadata": {},
   "outputs": [],
   "source": [
    "cols_to_drop = list()\n",
    "\n",
    "for time in ['L1','L3','L5','L10','TOT','Last_season']:\n",
    "    for zone in [' 5-1',' 5-2',' 6-1',' 6-2',' 6-3',' 7-1',' 7-2',' 7-3']:\n",
    "        reduced_3P_df[f\"{time} Zone made\"] = np.where(reduced_3P_df.Zone==zone, reduced_3P_df[f\"{time}{zone} made\"], reduced_3P_df[f\"{time} Zone made\"])\n",
    "        cols_to_drop.append(f\"{time}{zone} made\")\n",
    "        reduced_3P_df[f\"{time} Zone attempted\"] = np.where(reduced_3P_df.Zone==zone, reduced_3P_df[f\"{time}{zone} attempted\"], reduced_3P_df[f\"{time} Zone attempted\"])\n",
    "        cols_to_drop.append(f\"{time}{zone} attempted\")\n",
    "        reduced_3P_df[f\"{time} Zone perc%\"] = np.where(reduced_3P_df.Zone==zone, reduced_3P_df[f\"{time} zone{zone} FG%\"], reduced_3P_df[f\"{time} Zone perc%\"])\n",
    "        cols_to_drop.append(f\"{time} zone{zone} FG%\")\n"
   ]
  },
  {
   "cell_type": "code",
   "execution_count": 119,
   "metadata": {},
   "outputs": [],
   "source": [
    "reduced_3P_df = reduced_3P_df.drop(columns=cols_to_drop)"
   ]
  },
  {
   "cell_type": "code",
   "execution_count": 120,
   "metadata": {},
   "outputs": [],
   "source": [
    "reduced_3P_df.insert(59, 'Shot type', 'Other')\n",
    "reduced_3P_df['Shot type'] = np.where(reduced_3P_df.Jumpshot==True, 'Jumpshot', reduced_3P_df['Shot type'])\n",
    "reduced_3P_df['Shot type'] = np.where(reduced_3P_df.Pullup==True, 'Pullup', reduced_3P_df['Shot type'])\n",
    "reduced_3P_df['Shot type'] = np.where(reduced_3P_df['Step Back']==True, 'Step Back', reduced_3P_df['Shot type'])\n"
   ]
  },
  {
   "cell_type": "code",
   "execution_count": 121,
   "metadata": {},
   "outputs": [],
   "source": [
    "reduced_3P_df.insert(60, 'Last_season Shot type perc%', np.nan)\n",
    "reduced_3P_df.insert(60, 'Last_season Shot type attempted', 0)\n",
    "reduced_3P_df.insert(60, 'Last_season Shot type made', 0)\n",
    "reduced_3P_df.insert(60, 'TOT Shot type perc%', np.nan)\n",
    "reduced_3P_df.insert(60, 'TOT Shot type attempted', 0)\n",
    "reduced_3P_df.insert(60, 'TOT Shot type made', 0)\n",
    "reduced_3P_df.insert(60, 'L10 Shot type perc%', np.nan)\n",
    "reduced_3P_df.insert(60, 'L10 Shot type attempted', 0)\n",
    "reduced_3P_df.insert(60, 'L10 Shot type made', 0)\n",
    "reduced_3P_df.insert(60, 'L5 Shot type perc%', np.nan)\n",
    "reduced_3P_df.insert(60, 'L5 Shot type attempted', 0)\n",
    "reduced_3P_df.insert(60, 'L5 Shot type made', 0)\n",
    "reduced_3P_df.insert(60, 'L3 Shot type perc%', np.nan)\n",
    "reduced_3P_df.insert(60, 'L3 Shot type attempted', 0)\n",
    "reduced_3P_df.insert(60, 'L3 Shot type made', 0)\n",
    "reduced_3P_df.insert(60, 'L1 Shot type perc%', np.nan)\n",
    "reduced_3P_df.insert(60, 'L1 Shot type attempted', 0)\n",
    "reduced_3P_df.insert(60, 'L1 Shot type made', 0)"
   ]
  },
  {
   "cell_type": "code",
   "execution_count": 122,
   "metadata": {},
   "outputs": [],
   "source": [
    "cols_to_drop = list()\n",
    "\n",
    "for time in ['L1','L3','L5','L10','TOT','Last_season']:\n",
    "    for shot_type in ['Jumpshot','Pullup','Step Back']:\n",
    "        reduced_3P_df[f\"{time} Shot type made\"] = np.where(reduced_3P_df['Shot type']==shot_type, reduced_3P_df[f\"{time} 3P {shot_type}s made\"], reduced_3P_df[f\"{time} Shot type made\"])\n",
    "        cols_to_drop.append(f\"{time} 3P {shot_type}s made\")\n",
    "        reduced_3P_df[f\"{time} Shot type attempted\"] = np.where(reduced_3P_df['Shot type']==shot_type, reduced_3P_df[f\"{time} 3P {shot_type}s attempted\"], reduced_3P_df[f\"{time} Shot type attempted\"])\n",
    "        cols_to_drop.append(f\"{time} 3P {shot_type}s attempted\")\n",
    "        reduced_3P_df[f\"{time} Shot type perc%\"] = np.where(reduced_3P_df['Shot type']==shot_type, reduced_3P_df[f\"{time} {shot_type}s 3P%\"], reduced_3P_df[f\"{time} Shot type perc%\"])\n",
    "        cols_to_drop.append(f\"{time} {shot_type}s 3P%\")\n"
   ]
  },
  {
   "cell_type": "code",
   "execution_count": 123,
   "metadata": {},
   "outputs": [],
   "source": [
    "reduced_3P_df = reduced_3P_df.drop(columns=cols_to_drop)"
   ]
  },
  {
   "cell_type": "code",
   "execution_count": 124,
   "metadata": {},
   "outputs": [],
   "source": [
    "condensed_per_game_3P_features = list(range(-73,0))\n",
    "condensed_per_game_3P_features.insert(0,38)\n",
    "condensed_per_game_3P_features.insert(0,4)"
   ]
  },
  {
   "cell_type": "code",
   "execution_count": 125,
   "metadata": {},
   "outputs": [],
   "source": [
    "Condensed_3P_features_df = reduced_3P_df.iloc[:,condensed_per_game_3P_features]\n",
    "# .to_pickle(\"Condensed_3P_features_df.pickle\")\n",
    "#Condensed_3P_features_df,Condensed_2P_features_df"
   ]
  },
  {
   "cell_type": "markdown",
   "metadata": {},
   "source": [
    "# Grand Merge"
   ]
  },
  {
   "cell_type": "code",
   "execution_count": 126,
   "metadata": {},
   "outputs": [
    {
     "name": "stdout",
     "output_type": "stream",
     "text": [
      "(664654, 14)\n",
      "(664654, 59)\n",
      "(664654, 72)\n"
     ]
    }
   ],
   "source": [
    "df_features_additional = features_part_2\n",
    "print(df_features_additional.shape)\n",
    "print(merged_df.shape)\n",
    "merged_df_2 = pd.merge(merged_df, df_features_additional, on=['shot_id'], how='left')\n",
    "print(merged_df_2.shape)"
   ]
  },
  {
   "cell_type": "markdown",
   "metadata": {},
   "source": [
    "Splitting into 2 pointer & 3 pointer datasets"
   ]
  },
  {
   "cell_type": "code",
   "execution_count": 127,
   "metadata": {},
   "outputs": [],
   "source": [
    "merged_df_two_pointers = merged_df_2[merged_df_2['Stat'].isin(['TwoMake', 'TwoMiss'])].copy()\n",
    "merged_df_three_pointers = merged_df_2[merged_df_2['Stat'].isin(['ThreeMake', 'ThreeMiss'])].copy()\n",
    "\n",
    "merged_df_two_pointers['Made'] = merged_df_two_pointers['Stat'] == 'TwoMake'\n",
    "merged_df_three_pointers['Made'] = merged_df_three_pointers['Stat'] == 'ThreeMake'"
   ]
  },
  {
   "cell_type": "markdown",
   "metadata": {},
   "source": [
    "Adding Nikos's features"
   ]
  },
  {
   "cell_type": "code",
   "execution_count": 128,
   "metadata": {},
   "outputs": [
    {
     "name": "stdout",
     "output_type": "stream",
     "text": [
      "(216949, 75)\n",
      "(447705, 75)\n"
     ]
    }
   ],
   "source": [
    "feature_df_3P = Condensed_3P_features_df\n",
    "feature_df_2P = Condensed_2P_features_df\n",
    "\n",
    "print(feature_df_3P.shape)\n",
    "print(feature_df_2P.shape)"
   ]
  },
  {
   "cell_type": "code",
   "execution_count": 130,
   "metadata": {},
   "outputs": [
    {
     "name": "stdout",
     "output_type": "stream",
     "text": [
      "(447705, 147)\n",
      "(216949, 147)\n"
     ]
    }
   ],
   "source": [
    "merged_df_with_2P = pd.merge(merged_df_two_pointers, feature_df_2P, on=['shot_id'], how='left')\n",
    "merged_df_with_3P = pd.merge(merged_df_three_pointers, feature_df_3P, on=['shot_id'], how='left')\n",
    "\n",
    "print(merged_df_with_2P.shape)\n",
    "print(merged_df_with_3P.shape)"
   ]
  },
  {
   "cell_type": "code",
   "execution_count": 131,
   "metadata": {},
   "outputs": [],
   "source": [
    "merged_df_with_2P.to_pickle(f'data/processed_data/{league}_{season}_2P.pickle')\n",
    "merged_df_with_3P.to_pickle(f'data/processed_data/{league}_{season}_3P.pickle')"
   ]
  },
  {
   "cell_type": "markdown",
   "metadata": {},
   "source": [
    "### Compare with old Dataset"
   ]
  },
  {
   "cell_type": "code",
   "execution_count": null,
   "metadata": {},
   "outputs": [],
   "source": [
    "merged_df_with_2P_old = pd.read_csv(f'data/processed_data/Women_merged_df_with_2P.csv').drop(columns=\"Unnamed: 0\")\n",
    "merged_df_with_3P_old = pd.read_csv(f'data/processed_data/Women_merged_df_with_3P.csv').drop(columns=\"Unnamed: 0\")\n",
    " "
   ]
  },
  {
   "cell_type": "code",
   "execution_count": null,
   "metadata": {},
   "outputs": [],
   "source": [
    "columns = merged_df_with_2P.columns.to_list()\n",
    "columns"
   ]
  },
  {
   "cell_type": "code",
   "execution_count": null,
   "metadata": {},
   "outputs": [],
   "source": [
    "a = merged_df_with_2P[columns].compare(merged_df_with_2P_old[columns])"
   ]
  },
  {
   "cell_type": "code",
   "execution_count": null,
   "metadata": {},
   "outputs": [],
   "source": [
    "merged_df_with_2P_old.shape, merged_df_with_2P.shape"
   ]
  },
  {
   "cell_type": "code",
   "execution_count": null,
   "metadata": {},
   "outputs": [],
   "source": [
    "a"
   ]
  },
  {
   "cell_type": "code",
   "execution_count": null,
   "metadata": {},
   "outputs": [],
   "source": []
  }
 ],
 "metadata": {
  "kernelspec": {
   "display_name": "base",
   "language": "python",
   "name": "python3"
  },
  "language_info": {
   "codemirror_mode": {
    "name": "ipython",
    "version": 3
   },
   "file_extension": ".py",
   "mimetype": "text/x-python",
   "name": "python",
   "nbconvert_exporter": "python",
   "pygments_lexer": "ipython3",
   "version": "3.9.18"
  }
 },
 "nbformat": 4,
 "nbformat_minor": 2
}
